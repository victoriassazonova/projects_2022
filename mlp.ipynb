{
 "cells": [
  {
   "cell_type": "code",
   "execution_count": 3,
   "metadata": {},
   "outputs": [],
   "source": [
    "import math\n",
    "import random\n",
    "import abc\n",
    "from matplotlib import pyplot as plt\n",
    "import json"
   ]
  },
  {
   "cell_type": "markdown",
   "metadata": {},
   "source": [
    "### Activation function"
   ]
  },
  {
   "cell_type": "code",
   "execution_count": 4,
   "metadata": {
    "_cell_guid": "b1076dfc-b9ad-4769-8c92-a6c4dae69d19",
    "_uuid": "8f2839f25d086af736a60e9eeb907d3b93b6e0e5"
   },
   "outputs": [],
   "source": [
    "class ActivationF(abc.ABC):\n",
    "\n",
    "    @abc.abstractmethod\n",
    "    def calc(self, x):\n",
    "        pass\n",
    "\n",
    "    @abc.abstractmethod\n",
    "    def derive(self, x):\n",
    "        pass\n",
    "\n",
    "    @staticmethod\n",
    "    def from_name(name=\"tanh\"):\n",
    "        if name == \"tanh\":\n",
    "            return TanhF()\n",
    "        if name == \"softmax\":\n",
    "            return SoftmaxF()\n",
    "        if name == \"sigmoid\":\n",
    "            return SigmoidF()\n",
    "        \n",
    "class TanhF(ActivationF):\n",
    "\n",
    "    def calc(self, x):\n",
    "        return (math.exp(x) - math.exp(-x)) / (math.exp(x) + math.exp(-x))\n",
    "\n",
    "    def derive(self, x):\n",
    "        return 1 - self.calc(x)**2\n",
    "  \n",
    "    \n",
    "    \n",
    "class SoftmaxF(ActivationF):\n",
    "\n",
    "    def calc(self, some_data):\n",
    "        #print(some_data)\n",
    "        es_x = [math.exp(x) for x in some_data]\n",
    "        return [e_x / sum(es_x) for e_x in es_x]\n",
    "\n",
    "    def derive(self, x):\n",
    "        pass\n",
    "    \n",
    "    \n",
    "class SigmoidF(ActivationF):\n",
    "\n",
    "    def calc(self, x):\n",
    "        return 1 / (1 + math.exp(-x))\n",
    "\n",
    "\n",
    "    def derive(self, x):\n",
    "        return self.calc(x)*(1-self.calc(x))"
   ]
  },
  {
   "cell_type": "markdown",
   "metadata": {},
   "source": [
    "### Neuron class"
   ]
  },
  {
   "cell_type": "code",
   "execution_count": 26,
   "metadata": {
    "_cell_guid": "79c7e3d0-c299-4dcb-8224-4455121ee9b0",
    "_uuid": "d629ff2d2480ee46fbb7e2d37f6b5fab8052498a"
   },
   "outputs": [],
   "source": [
    "class Unit:\n",
    "    def __init__(self, input_size, prev_layer: \"Layer\" = None, activation=\"tanh\"):\n",
    "        self.activation = ActivationF.from_name(activation)\n",
    "        self.activation_name = activation\n",
    "        self.weights = [random.uniform(-1, 1) for weight_n in range(input_size)]\n",
    "        self.prev_layer = prev_layer\n",
    "        # your code here\n",
    "        self.features = None\n",
    "        self.forward_result = 0\n",
    "        self.delta = 0\n",
    "\n",
    "    def forward(self):\n",
    "        if self.prev_layer is not None:\n",
    "            self.features = [unit.forward_result for unit in self.prev_layer.units]\n",
    "        self.forward_result = self.activation.calc(self.weighted_sum(self.features))\n",
    "        return self.forward_result\n",
    "\n",
    "    def backward(self, error, learning_rate=0.01):\n",
    "        # your code here\n",
    "        self.delta = error * self.activation.derive(self.forward_result)\n",
    "        new_w = []\n",
    "        for i, w in enumerate(self.weights):\n",
    "            w+=learning_rate* self.delta* self.features[i]\n",
    "            new_w.append(w)\n",
    "        self.weights  = new_w \n",
    "    \n",
    "    def weighted_sum(self, inputs):\n",
    "        return sum([weight * x for weight, x in zip(self.weights, inputs)])\n",
    " "
   ]
  },
  {
   "cell_type": "markdown",
   "metadata": {},
   "source": [
    "### Layer class"
   ]
  },
  {
   "cell_type": "code",
   "execution_count": 20,
   "metadata": {},
   "outputs": [],
   "source": [
    "class Layer:\n",
    "    def __init__(self, input_size, size, activation=\"tanh\", prev_layer = None):\n",
    "        self.activation = ActivationF.from_name(activation)\n",
    "        self.units = [Unit(input_size, prev_layer=prev_layer, activation=activation)\n",
    "                      for unit_n in range(size)]\n",
    "        self.prev_layer = prev_layer\n",
    "        self.errors = []\n",
    "        self.output = []\n",
    "    \n",
    "    def forward(self):\n",
    "        self.output = [unit.forward() for unit in self.units]\n",
    "        return self.output\n",
    "\n",
    "    def backward(self, learning_rate):\n",
    "        return [unit.backward(e, learning_rate) for unit, e in zip(self.units, self.errors)]\n",
    "    \n",
    "    def error_back(self, next_layer):\n",
    "        for j in range(len(self.units)):\n",
    "            error = 0.0\n",
    "            for unit in next_layer.units:\n",
    "                error += (unit.weights[j] * unit.delta)\n",
    "            self.errors.append(error)"
   ]
  },
  {
   "cell_type": "markdown",
   "metadata": {},
   "source": [
    "### perceptron class - alows different activation functions"
   ]
  },
  {
   "cell_type": "code",
   "execution_count": 39,
   "metadata": {},
   "outputs": [],
   "source": [
    "class MLP:\n",
    "    def __init__(self, input_size, output_size, sizes, activation= \"tanh\", learning_rate=0.01):\n",
    "        \n",
    "        self.activation = activation\n",
    "        self.learning_rate=learning_rate\n",
    "        layers_sizes = [input_size] + sizes + [output_size]\n",
    "        if type(self.activation)==str:\n",
    "            activation = [activation for i in range(len(layers_sizes)-1)]\n",
    "        self.layers = []\n",
    "        prev_added_layer = None\n",
    "        for layer_in_size, layer_out_size, activation in zip(layers_sizes[:-1], layers_sizes[1:], activation):\n",
    "            self.layers.append(Layer(layer_in_size, layer_out_size, activation, prev_layer=prev_added_layer))\n",
    "            prev_added_layer = self.layers[-1]\n",
    "        #self.layers.append(Layer(layers_sizes[-2], layers_sizes[-1], \"softmax\", prev_layer=prev_added_layer))\n",
    "                  \n",
    "    def train_single_entry(self, features, target_mhe):\n",
    "        # region forward pass\n",
    "        softmax = ActivationF.from_name('softmax')\n",
    "        for unit in self.layers[0].units:\n",
    "            unit.features = features\n",
    "\n",
    "        for layer in self.layers:\n",
    "            curr_layer_output = layer.forward()\n",
    "        last_layer_output = curr_layer_output\n",
    "        # endregion forward pass\n",
    "        pred = softmax.calc(last_layer_output)\n",
    "        loss = (- sum(class_target * math.log(class_pred) for class_target, class_pred in zip(target_mhe, pred)))/len(pred)\n",
    "        # region backward pass\n",
    "        errors = [class_pred - t for t, class_pred in zip(target_mhe, pred)]\n",
    "        # your code here\n",
    "        # endregion backward pass\n",
    "        for i in reversed(range(len(self.layers))):\n",
    "            layer = self.layers[i]\n",
    "            errors = []\n",
    "            if i != len(self.layers)-1:\n",
    "                layer.error_back(self.layers[i+1])\n",
    "                layer.backward(self.learning_rate)\n",
    "            else:\n",
    "                errors = [t - class_pred for t, class_pred in zip(target_mhe, pred)]\n",
    "                for i, p, unit in zip(errors, pred, layer.units):\n",
    "                    unit.delta = i/len(unit.weights)\n",
    "                    new_w = []\n",
    "                    for j, w in enumerate(unit.weights):\n",
    "                        w+=0.01*unit.delta*unit.features[j]\n",
    "                        new_w.append(w)\n",
    "                    unit.weights  = new_w \n",
    "        return loss,last_layer_output\n",
    "\n",
    "    def train(self, X, Y):\n",
    "        losses = []\n",
    "        preds = []\n",
    "        for x,y in zip(X,Y):\n",
    "            l, p = self.train_single_entry(x, y)\n",
    "            losses.append(l)\n",
    "            preds.append(p)\n",
    "        return sum(losses)/len(X), preds\n",
    "    # your code here\n",
    "    \n",
    "    def save_weights(self, filename):\n",
    "        l = []\n",
    "        for layer in self.layers:\n",
    "            j = json.dumps([unit.weights for unit in layer.units])\n",
    "            l.append(j)\n",
    "        with open(filename, 'w') as outfile:\n",
    "            json.dump(l, outfile)\n",
    "        #return json.dumps(l)\n",
    "    \n",
    "    \"\"\"def predict(self, row):\n",
    "        for unit in self.layers[0].units:\n",
    "            unit.features = row\n",
    "        for layer in self.layers:\n",
    "            curr_layer_output = layer.forward()\n",
    "        pred = self.layers[-1].units[0].activation.calc(curr_layer_output)\n",
    "        return  pred #.index(max(pred))\"\"\"\n",
    " "
   ]
  },
  {
   "cell_type": "markdown",
   "metadata": {},
   "source": [
    "### For loading its needed to specift file and input size"
   ]
  },
  {
   "cell_type": "code",
   "execution_count": 9,
   "metadata": {},
   "outputs": [],
   "source": [
    "def load_weights(filename, input_size):\n",
    "    with open(filename) as json_file:\n",
    "        w = json.load(json_file)\n",
    "    #w =  json.loads(filename)\n",
    "    model = MLP(input_size, len(json.loads(w[-1])), [len(json.loads(l)) for l in w[:-1]])\n",
    "    for layer,l in zip(model.layers, w):\n",
    "        l = json.loads(l)\n",
    "        for q,unit in zip(l,layer.units):\n",
    "            unit.weights = q\n",
    "    return model"
   ]
  },
  {
   "cell_type": "code",
   "execution_count": 68,
   "metadata": {},
   "outputs": [
    {
     "data": {
      "image/png": "[encoded data removed]",
      "text/plain": [
       "<Figure size 432x288 with 1 Axes>"
      ]
     },
     "metadata": {
      "needs_background": "light"
     },
     "output_type": "display_data"
    }
   ],
   "source": [
    "from mlxtend.data import iris_data\n",
    "X, Y = iris_data()\n",
    "Y = Y.reshape((150,1))\n",
    "\n",
    "irisSet = MLP(4, 3, [12, 8])\n",
    "losses = []\n",
    "preds = []\n",
    "for epoch in range(50):\n",
    "    l, p = irisSet.train(X, Y)\n",
    "    losses.append(l)\n",
    "    preds.append(p)\n",
    "    \n",
    "plt.plot(losses)\n",
    "plt.xlabel('Iteration')\n",
    "plt.ylabel('Loss')\n",
    "plt.show()"
   ]
  },
  {
   "cell_type": "code",
   "execution_count": 44,
   "metadata": {},
   "outputs": [
    {
     "data": {
      "image/png": "[encoded data removed]",
      "text/plain": [
       "<Figure size 432x288 with 1 Axes>"
      ]
     },
     "metadata": {
      "needs_background": "light"
     },
     "output_type": "display_data"
    }
   ],
   "source": [
    "from mlxtend.data import iris_data\n",
    "X, Y = iris_data()\n",
    "Y = Y.reshape((150,1))\n",
    "\n",
    "irisSet = MLP(4, 3, [12, 12], \"sigmoid\")\n",
    "losses = []\n",
    "preds = []\n",
    "for epoch in range(50):\n",
    "    l, p = irisSet.train(X, Y)\n",
    "    losses.append(l)\n",
    "    preds.append(p)\n",
    "    \n",
    "plt.plot(losses)\n",
    "plt.xlabel('Iteration')\n",
    "plt.ylabel('Loss')\n",
    "plt.show()"
   ]
  },
  {
   "cell_type": "code",
   "execution_count": 49,
   "metadata": {},
   "outputs": [
    {
     "data": {
      "image/png": "[encoded data removed]",
      "text/plain": [
       "<Figure size 432x288 with 1 Axes>"
      ]
     },
     "metadata": {
      "needs_background": "light"
     },
     "output_type": "display_data"
    }
   ],
   "source": [
    "from mlxtend.data import iris_data\n",
    "X, Y = iris_data()\n",
    "Y = Y.reshape((150,1))\n",
    "\n",
    "irisSet = MLP(4, 3, [12, 12], [\"tanh\", \"sigmoid\",\"sigmoid\"], 0.001)\n",
    "losses = []\n",
    "preds = []\n",
    "for epoch in range(50):\n",
    "    l, p = irisSet.train(X, Y)\n",
    "    losses.append(l)\n",
    "    preds.append(p)\n",
    "    \n",
    "plt.plot(losses)\n",
    "plt.xlabel('Iteration')\n",
    "plt.ylabel('Loss')\n",
    "plt.show()"
   ]
  },
  {
   "cell_type": "code",
   "execution_count": 50,
   "metadata": {},
   "outputs": [],
   "source": [
    "irisSet.save_weights('data1.json')"
   ]
  },
  {
   "cell_type": "code",
   "execution_count": 51,
   "metadata": {},
   "outputs": [],
   "source": [
    "model_mlp = load_weights('data1.json', 4)"
   ]
  },
  {
   "cell_type": "code",
   "execution_count": 53,
   "metadata": {},
   "outputs": [
    {
     "data": {
      "text/plain": [
       "[0.06920373707831166,\n",
       " -0.4472460724099706,\n",
       " 0.07869594849664079,\n",
       " -0.19478758983481442]"
      ]
     },
     "execution_count": 53,
     "metadata": {},
     "output_type": "execute_result"
    }
   ],
   "source": [
    "model_mlp.layers[0].units[0].weights"
   ]
  },
  {
   "cell_type": "code",
   "execution_count": 54,
   "metadata": {},
   "outputs": [
    {
     "data": {
      "text/plain": [
       "[0.06920373707831166,\n",
       " -0.4472460724099706,\n",
       " 0.07869594849664079,\n",
       " -0.19478758983481442]"
      ]
     },
     "execution_count": 54,
     "metadata": {},
     "output_type": "execute_result"
    }
   ],
   "source": [
    "irisSet.layers[0].units[0].weights"
   ]
  }
 ],
 "metadata": {
  "kernelspec": {
   "display_name": "Python 3",
   "language": "python",
   "name": "python3"
  },
  "language_info": {
   "codemirror_mode": {
    "name": "ipython",
    "version": 3
   },
   "file_extension": ".py",
   "mimetype": "text/x-python",
   "name": "python",
   "nbconvert_exporter": "python",
   "pygments_lexer": "ipython3",
   "version": "3.8.5"
  }
 },
 "nbformat": 4,
 "nbformat_minor": 4
}
