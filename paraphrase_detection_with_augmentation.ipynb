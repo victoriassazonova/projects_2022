{
 "cells": [
  {
   "cell_type": "markdown",
   "metadata": {
    "id": "GJntJKWGe3Ux"
   },
   "source": [
    "### Augmentation through paraphrasing with ```word2vec``` \n",
    "\n",
    "*model from [rusvectores](https://rusvectores.org/ru/models/)\n",
    "\n"
   ]
  },
  {
   "cell_type": "code",
   "execution_count": null,
   "metadata": {
    "id": "mR7tuRTwf_cz"
   },
   "outputs": [],
   "source": [
    "!wget -c http://vectors.nlpl.eu/repository/20/180.zip\n",
    "!unzip 180.zip"
   ]
  },
  {
   "cell_type": "code",
   "execution_count": null,
   "metadata": {
    "id": "1XGbFDrxYvNQ"
   },
   "outputs": [],
   "source": [
    "!pip install pymorphy2"
   ]
  },
  {
   "cell_type": "code",
   "execution_count": null,
   "metadata": {
    "id": "2woqUQYzVizB"
   },
   "outputs": [],
   "source": [
    "import pymorphy2\n",
    "morph = pymorphy2.MorphAnalyzer()"
   ]
  },
  {
   "cell_type": "code",
   "execution_count": null,
   "metadata": {
    "id": "P64Ge3mLZ4zn"
   },
   "outputs": [],
   "source": [
    "import gensim\n",
    "model_v = gensim.models.KeyedVectors.load_word2vec_format(\"model.bin\", binary=True)\n",
    "model.init_sims(replace=True)"
   ]
  },
  {
   "cell_type": "code",
   "execution_count": null,
   "metadata": {
    "colab": {
     "base_uri": "https://localhost:8080/",
     "height": 68
    },
    "id": "Nuz6PWetaYrt",
    "outputId": "7a73643b-135d-41ae-f632-bfb7d77e378c"
   },
   "outputs": [
    {
     "name": "stdout",
     "output_type": "stream",
     "text": [
      "[nltk_data] Downloading package stopwords to /root/nltk_data...\n",
      "[nltk_data]   Unzipping corpora/stopwords.zip.\n"
     ]
    },
    {
     "data": {
      "text/plain": [
       "True"
      ]
     },
     "execution_count": 5,
     "metadata": {
      "tags": []
     },
     "output_type": "execute_result"
    }
   ],
   "source": [
    "import nltk\n",
    "nltk.download('stopwords')"
   ]
  },
  {
   "cell_type": "code",
   "execution_count": null,
   "metadata": {
    "id": "6ttvnWrXYudG"
   },
   "outputs": [],
   "source": [
    "import re\n",
    "from nltk.corpus import stopwords\n",
    "stop_words = set(stopwords.words('russian'))\n",
    "# функция препроцессинга\n",
    "def preprocess(rawtext):\n",
    "    ans = ''\n",
    "    for char in rawtext:\n",
    "        if char.isalpha() or char == ' ':\n",
    "            ans += char\n",
    "        else:\n",
    "            ans += ' '\n",
    "    words = ans.split(\" \")\n",
    "    w = []\n",
    "    for i in words:\n",
    "        if i != '':\n",
    "            p = morph.parse(i.lower())[0].normal_form\n",
    "            if p not in stop_words:\n",
    "                w.append(p)\n",
    "    return \" \".join(w)\n"
   ]
  },
  {
   "cell_type": "markdown",
   "metadata": {
    "id": "kdUdpIiDhpFA"
   },
   "source": [
    "\n",
    "A function that replaces words in an input sentence with their closest semantic associates."
   ]
  },
  {
   "cell_type": "code",
   "execution_count": null,
   "metadata": {
    "id": "9PcdwIL0hHBv"
   },
   "outputs": [],
   "source": [
    "punct = re.compile('^(.*?)([а-яА-ЯёЁ-]+)(.*?)$')\n",
    "def augment_word2vec(sentence, model=model_v):\n",
    "    sentence = sentence.strip()\n",
    "    words = sentence.split(\" \")\n",
    "    new_line=[]\n",
    "    for word in words:\n",
    "        struct = punct.findall(word)\n",
    "        if struct:\n",
    "            struct = struct[0]\n",
    "        else:\n",
    "            new_line.append(word)\n",
    "            continue\n",
    "        wordform = struct[1]\n",
    "        try:\n",
    "            parse_result = morph.parse(wordform)[0]\n",
    "            pos_tag = parse_result.tag.POS\n",
    "            q = parse_result.normal_form + \"_\" + pos_tag\n",
    "            for i in model.most_similar(positive=[q], topn=1):\n",
    "                new_word, smth_else = i[0].split('_')\n",
    "                if new_word == parse_result.normal_form:\n",
    "                    for i,  entry in enumerate(model.most_similar(positive=[q], topn=2)):\n",
    "                        if i == 1:\n",
    "                            new_word, smth_else = entry[0].split('_')\n",
    "                            new_line.append(str(new_word))\n",
    "                else:\n",
    "                    new_line.append(str(new_word))\n",
    "        except KeyError:\n",
    "            new_line.append(str(wordform ))\n",
    "\n",
    "    return ' '.join(new_line)"
   ]
  },
  {
   "cell_type": "code",
   "execution_count": null,
   "metadata": {
    "colab": {
     "base_uri": "https://localhost:8080/",
     "height": 35
    },
    "id": "IcdUuy5iaqla",
    "outputId": "7178b37f-6dc0-4c63-c55f-00199403c042"
   },
   "outputs": [
    {
     "data": {
      "application/vnd.google.colaboratory.intrinsic+json": {
       "type": "string"
      },
      "text/plain": [
       "'бабушка вымывать окошко'"
      ]
     },
     "execution_count": 230,
     "metadata": {
      "tags": []
     },
     "output_type": "execute_result"
    }
   ],
   "source": [
    "import warnings\n",
    "warnings.simplefilter(action='ignore', category=FutureWarning)\n",
    "\n",
    "sent = \"мама помыла окно\"\n",
    "\n",
    "augment_word2vec(sent)"
   ]
  },
  {
   "cell_type": "markdown",
   "metadata": {
    "id": "WWFKcZshiBDY"
   },
   "source": [
    "To replace words related to a given set of post-tags (for example, ADJ, NOUN), and save the grammar."
   ]
  },
  {
   "cell_type": "code",
   "execution_count": null,
   "metadata": {
    "id": "AvukGlGgiWnI"
   },
   "outputs": [],
   "source": [
    "def augment_word2vec_pos(sentence, pos_tags, model=model_v):\n",
    "    sentence = sentence.strip()\n",
    "    words = sentence.split(\" \")\n",
    "    new_line=[]\n",
    "    for word in words:\n",
    "        s = \"\"\n",
    "        struct = punct.findall(word)\n",
    "        if struct:\n",
    "            struct = struct[0]\n",
    "        else:\n",
    "            new_line.append(word)\n",
    "            continue\n",
    "        wordform = struct[1]\n",
    "        try:\n",
    "            parse_result = morph.parse(wordform)[0]\n",
    "            pos_tag = parse_result.tag.POS\n",
    "            if pos_tag in pos_tags:\n",
    "                if pos_tag == 'ADVB':\n",
    "                    s = 'ADV'\n",
    "                    q = wordform + \"_\" + 'ADV'\n",
    "                elif pos_tag == 'ADJF' or pos_tag == 'ADJS':\n",
    "                    s='ADJ'\n",
    "                    q = parse_result.normal_form + \"_\" + 'ADJ'\n",
    "                else:\n",
    "                    q = parse_result.normal_form + \"_\" + pos_tag\n",
    "                for i in model.most_similar(positive=[q], topn=1):\n",
    "                    new_word, smth_else = i[0].split('_')\n",
    "                    if s!='' or new_word==wordform:\n",
    "                        for i,  entry in enumerate(model.most_similar(positive=[q], topn=2)):\n",
    "                            if i == 1:\n",
    "                                new_word, smth_else = entry[0].split('_')\n",
    "                                if pos_tag == 'ADVB':\n",
    "                                    new_line.append(struct[0] + str(new_word) + struct[2])\n",
    "                                    continue\n",
    "                                tags, k = make_tags(new_word, parse_result.tag, pos_tag)\n",
    "                                try:\n",
    "                                    b = k.inflect(tags).word\n",
    "                                    new_line.append(struct[0] + b + struct[2])\n",
    "                                except BaseException:\n",
    "                                    new_line.append(struct[0] + wordform + struct[2])\n",
    "                    else:\n",
    "                        if pos_tag == 'ADVB':\n",
    "                            new_line.append(struct[0] + str(new_word) + struct[2])\n",
    "                            continue\n",
    "                        tags, k = make_tags(new_word, parse_result.tag, pos_tag)\n",
    "                        try:\n",
    "                            b = k.inflect(tags).word\n",
    "                            new_line.append(struct[0] + b + struct[2])\n",
    "                        except BaseException:\n",
    "                            new_line.append(struct[0] + wordform + struct[2])\n",
    "            else:\n",
    "                new_line.append(struct[0]+str(wordform)+ struct[2])\n",
    "        except KeyError:\n",
    "            new_line.append(struct[0]+str(wordform)+ struct[2])\n",
    "\n",
    "    return ' '.join(new_line)\n",
    "\n"
   ]
  },
  {
   "cell_type": "code",
   "execution_count": null,
   "metadata": {
    "colab": {
     "base_uri": "https://localhost:8080/",
     "height": 35
    },
    "id": "g-3LgyjRgB04",
    "outputId": "4e26196d-262b-4dc1-defd-68d235f1fe41"
   },
   "outputs": [
    {
     "data": {
      "application/vnd.google.colaboratory.intrinsic+json": {
       "type": "string"
      },
      "text/plain": [
       "'бабушка съела некрасивую землянику медленно'"
      ]
     },
     "execution_count": 316,
     "metadata": {
      "tags": []
     },
     "output_type": "execute_result"
    }
   ],
   "source": [
    "sent = \"мама съела красивую клубнику быстро\"\n",
    "pos_tags = ['NOUN', 'ADJF', 'ADVB']\n",
    "augment_word2vec_pos(sent, pos_tags)"
   ]
  },
  {
   "cell_type": "code",
   "execution_count": null,
   "metadata": {
    "id": "vr0AgrqRnDI5"
   },
   "outputs": [],
   "source": [
    "def make_tags(word, parse_result, pos_tag):\n",
    "    if pos_tag == 'NOUN':\n",
    "        tags = []\n",
    "        if  parse_result.case:\n",
    "            tags.append(parse_result.case)\n",
    "        if parse_result.number:\n",
    "            tags.append( parse_result.number)\n",
    "    if pos_tag == 'ADJF' or pos_tag == 'ADJS':\n",
    "        tags = []\n",
    "        tags.append(pos_tag)\n",
    "        if parse_result.case:\n",
    "            tags.append(parse_result.case)\n",
    "        if parse_result.number:\n",
    "            tags.append(parse_result.number)\n",
    "        if parse_result.gender:\n",
    "            tags.append(parse_result.gender)\n",
    "    k = morph.parse(str(word))[0]\n",
    "    for t in tags:\n",
    "        j = set()\n",
    "        j.add(t)\n",
    "        j = frozenset(j)\n",
    "        try:\n",
    "            test_b = k.inflect(j)\n",
    "        except BaseException:\n",
    "            tags.remove(t)\n",
    "    tags_clean = frozenset(tags)\n",
    "    return tags_clean, k"
   ]
  },
  {
   "cell_type": "markdown",
   "metadata": {
    "id": "m9SrNOmbEf_p"
   },
   "source": [
    "### Paraphrase Detection \n",
    "\n",
    "\n",
    "data [here](https://yadi.sk/d/OIgbnRA6OVJ4VQ)\n",
    "\n",
    "\n"
   ]
  },
  {
   "cell_type": "markdown",
   "metadata": {
    "id": "0fGqz0fu5OGp"
   },
   "source": [
    "## EDA"
   ]
  },
  {
   "cell_type": "code",
   "execution_count": null,
   "metadata": {
    "colab": {
     "base_uri": "https://localhost:8080/",
     "height": 34
    },
    "id": "4gUk8z6cp5_b",
    "outputId": "4b2c81b8-62b4-4599-d330-69807dbbebf4"
   },
   "outputs": [
    {
     "name": "stdout",
     "output_type": "stream",
     "text": [
      "Mounted at /content/drive\n"
     ]
    }
   ],
   "source": [
    "from google.colab import drive\n",
    "drive.mount(\"/content/drive\")"
   ]
  },
  {
   "cell_type": "code",
   "execution_count": null,
   "metadata": {
    "id": "saGwXrfXYWhJ"
   },
   "outputs": [],
   "source": [
    "import pandas as pd"
   ]
  },
  {
   "cell_type": "code",
   "execution_count": null,
   "metadata": {
    "colab": {
     "base_uri": "https://localhost:8080/",
     "height": 204
    },
    "id": "iDXYQu_uWSGm",
    "outputId": "11cc418a-fcd9-4d99-ca3c-139685032464"
   },
   "outputs": [
    {
     "data": {
      "text/html": [
       "<div>\n",
       "<style scoped>\n",
       "    .dataframe tbody tr th:only-of-type {\n",
       "        vertical-align: middle;\n",
       "    }\n",
       "\n",
       "    .dataframe tbody tr th {\n",
       "        vertical-align: top;\n",
       "    }\n",
       "\n",
       "    .dataframe thead th {\n",
       "        text-align: right;\n",
       "    }\n",
       "</style>\n",
       "<table border=\"1\" class=\"dataframe\">\n",
       "  <thead>\n",
       "    <tr style=\"text-align: right;\">\n",
       "      <th></th>\n",
       "      <th>text_1</th>\n",
       "      <th>text_2</th>\n",
       "      <th>class</th>\n",
       "    </tr>\n",
       "  </thead>\n",
       "  <tbody>\n",
       "    <tr>\n",
       "      <th>0</th>\n",
       "      <td>Совет юстиции Бразилии легализовал однополые б...</td>\n",
       "      <td>Совет юстиции Бразилии разрешил однополые браки.</td>\n",
       "      <td>1</td>\n",
       "    </tr>\n",
       "    <tr>\n",
       "      <th>1</th>\n",
       "      <td>\"Магнит\" поручится перед \"Абсолют Банком\" за к...</td>\n",
       "      <td>Выпуск сигарет в России упал из-за антитабачно...</td>\n",
       "      <td>-1</td>\n",
       "    </tr>\n",
       "    <tr>\n",
       "      <th>2</th>\n",
       "      <td>ЕС призвал США не бомбить Сирию до публикации ...</td>\n",
       "      <td>Евросоюз призвал США дождаться доклада ООН по ...</td>\n",
       "      <td>-1</td>\n",
       "    </tr>\n",
       "    <tr>\n",
       "      <th>3</th>\n",
       "      <td>Депо Московского метрополитена впервые перейде...</td>\n",
       "      <td>Частной компании впервые отдадут депо в москов...</td>\n",
       "      <td>1</td>\n",
       "    </tr>\n",
       "    <tr>\n",
       "      <th>4</th>\n",
       "      <td>Два человека погибли в столкновениях между кур...</td>\n",
       "      <td>Один человек погиб при столкновении судов у бе...</td>\n",
       "      <td>-1</td>\n",
       "    </tr>\n",
       "  </tbody>\n",
       "</table>\n",
       "</div>"
      ],
      "text/plain": [
       "                                              text_1  ... class\n",
       "0  Совет юстиции Бразилии легализовал однополые б...  ...     1\n",
       "1  \"Магнит\" поручится перед \"Абсолют Банком\" за к...  ...    -1\n",
       "2  ЕС призвал США не бомбить Сирию до публикации ...  ...    -1\n",
       "3  Депо Московского метрополитена впервые перейде...  ...     1\n",
       "4  Два человека погибли в столкновениях между кур...  ...    -1\n",
       "\n",
       "[5 rows x 3 columns]"
      ]
     },
     "execution_count": 12,
     "metadata": {
      "tags": []
     },
     "output_type": "execute_result"
    }
   ],
   "source": [
    "para = pd.read_csv(\"/content/drive/My Drive/paraphrases.tsv\", sep=\"\\t\")\n",
    "para.head()"
   ]
  },
  {
   "cell_type": "code",
   "execution_count": null,
   "metadata": {
    "id": "Q_7PDGC0BdhB"
   },
   "outputs": [],
   "source": [
    "print(f'There are {para.isnull().any().sum()} columns in paraphrase dataset with missing values.')"
   ]
  },
  {
   "cell_type": "code",
   "execution_count": null,
   "metadata": {
    "colab": {
     "base_uri": "https://localhost:8080/",
     "height": 34
    },
    "id": "OSVbrMxUY_YA",
    "outputId": "385d60be-fa7e-4779-f5f4-a523c5b3dfd7"
   },
   "outputs": [
    {
     "data": {
      "text/plain": [
       "(8540, 3)"
      ]
     },
     "execution_count": 13,
     "metadata": {
      "tags": []
     },
     "output_type": "execute_result"
    }
   ],
   "source": [
    "para.shape"
   ]
  },
  {
   "cell_type": "code",
   "execution_count": null,
   "metadata": {
    "colab": {
     "base_uri": "https://localhost:8080/",
     "height": 68
    },
    "id": "gYZ9Q-TFYcMF",
    "outputId": "5970d78b-3a4f-428c-aec7-e7b4ff7a2021"
   },
   "outputs": [
    {
     "data": {
      "text/plain": [
       "-1    5164\n",
       " 1    3376\n",
       "Name: class, dtype: int64"
      ]
     },
     "execution_count": 14,
     "metadata": {
      "tags": []
     },
     "output_type": "execute_result"
    }
   ],
   "source": [
    "para[\"class\"].value_counts()"
   ]
  },
  {
   "cell_type": "markdown",
   "metadata": {
    "id": "FPLrZrJmM6o_"
   },
   "source": [
    "unbalanced"
   ]
  },
  {
   "cell_type": "code",
   "execution_count": null,
   "metadata": {
    "colab": {
     "base_uri": "https://localhost:8080/",
     "height": 187
    },
    "id": "2to3Fu0gc9yB",
    "outputId": "e8df7359-1e2a-4eb4-f79c-8e9bbbb7d20f"
   },
   "outputs": [
    {
     "name": "stdout",
     "output_type": "stream",
     "text": [
      "<class 'pandas.core.frame.DataFrame'>\n",
      "RangeIndex: 8540 entries, 0 to 8539\n",
      "Data columns (total 3 columns):\n",
      " #   Column  Non-Null Count  Dtype \n",
      "---  ------  --------------  ----- \n",
      " 0   text_1  8540 non-null   object\n",
      " 1   text_2  8540 non-null   object\n",
      " 2   class   8540 non-null   int64 \n",
      "dtypes: int64(1), object(2)\n",
      "memory usage: 200.3+ KB\n"
     ]
    }
   ],
   "source": [
    "para.info()"
   ]
  },
  {
   "cell_type": "code",
   "execution_count": null,
   "metadata": {
    "colab": {
     "base_uri": "https://localhost:8080/",
     "height": 173
    },
    "id": "Xb_Hww0rdCNV",
    "outputId": "b0c80e00-2137-4702-90c3-f3d5c6f65890"
   },
   "outputs": [
    {
     "data": {
      "text/html": [
       "<div>\n",
       "<style scoped>\n",
       "    .dataframe tbody tr th:only-of-type {\n",
       "        vertical-align: middle;\n",
       "    }\n",
       "\n",
       "    .dataframe tbody tr th {\n",
       "        vertical-align: top;\n",
       "    }\n",
       "\n",
       "    .dataframe thead th {\n",
       "        text-align: right;\n",
       "    }\n",
       "</style>\n",
       "<table border=\"1\" class=\"dataframe\">\n",
       "  <thead>\n",
       "    <tr style=\"text-align: right;\">\n",
       "      <th></th>\n",
       "      <th>text_1</th>\n",
       "      <th>text_2</th>\n",
       "    </tr>\n",
       "  </thead>\n",
       "  <tbody>\n",
       "    <tr>\n",
       "      <th>count</th>\n",
       "      <td>8540</td>\n",
       "      <td>8540</td>\n",
       "    </tr>\n",
       "    <tr>\n",
       "      <th>unique</th>\n",
       "      <td>3789</td>\n",
       "      <td>3552</td>\n",
       "    </tr>\n",
       "    <tr>\n",
       "      <th>top</th>\n",
       "      <td>«Рубин» вышел в групповой этап Лиги Европы, гд...</td>\n",
       "      <td>\"Все вроде замечательно, но теперь стоит вопро...</td>\n",
       "    </tr>\n",
       "    <tr>\n",
       "      <th>freq</th>\n",
       "      <td>28</td>\n",
       "      <td>152</td>\n",
       "    </tr>\n",
       "  </tbody>\n",
       "</table>\n",
       "</div>"
      ],
      "text/plain": [
       "                                                   text_1                                             text_2\n",
       "count                                                8540                                               8540\n",
       "unique                                               3789                                               3552\n",
       "top     «Рубин» вышел в групповой этап Лиги Европы, гд...  \"Все вроде замечательно, но теперь стоит вопро...\n",
       "freq                                                   28                                                152"
      ]
     },
     "execution_count": 16,
     "metadata": {
      "tags": []
     },
     "output_type": "execute_result"
    }
   ],
   "source": [
    "para.describe(include=['object'])"
   ]
  },
  {
   "cell_type": "markdown",
   "metadata": {
    "id": "cxxCF_FaM-S5"
   },
   "source": [
    "duplicates"
   ]
  },
  {
   "cell_type": "code",
   "execution_count": null,
   "metadata": {
    "id": "IiUBLrqMdYqC"
   },
   "outputs": [],
   "source": [
    "para['len_1'] = para['text_1'].apply(lambda x: len(x))"
   ]
  },
  {
   "cell_type": "code",
   "execution_count": null,
   "metadata": {
    "id": "RhGUT53n3TMK"
   },
   "outputs": [],
   "source": [
    "para['len_2'] = para['text_2'].apply(lambda x: len(x))"
   ]
  },
  {
   "cell_type": "code",
   "execution_count": null,
   "metadata": {
    "id": "6ymynWcw30VU"
   },
   "outputs": [],
   "source": [
    "para['dif'] = abs(para['len_2'] - para['len_1'])"
   ]
  },
  {
   "cell_type": "code",
   "execution_count": null,
   "metadata": {
    "colab": {
     "base_uri": "https://localhost:8080/",
     "height": 514
    },
    "id": "4ui9GGFJ3VNU",
    "outputId": "704ebfb8-3be0-4a97-b42d-b2af2689b9c1"
   },
   "outputs": [
    {
     "data": {
      "text/html": [
       "<div>\n",
       "<style scoped>\n",
       "    .dataframe tbody tr th:only-of-type {\n",
       "        vertical-align: middle;\n",
       "    }\n",
       "\n",
       "    .dataframe tbody tr th {\n",
       "        vertical-align: top;\n",
       "    }\n",
       "\n",
       "    .dataframe thead th {\n",
       "        text-align: right;\n",
       "    }\n",
       "</style>\n",
       "<table border=\"1\" class=\"dataframe\">\n",
       "  <thead>\n",
       "    <tr style=\"text-align: right;\">\n",
       "      <th></th>\n",
       "      <th>text_1</th>\n",
       "      <th>text_2</th>\n",
       "      <th>class</th>\n",
       "      <th>len_1</th>\n",
       "      <th>len_2</th>\n",
       "      <th>dif</th>\n",
       "    </tr>\n",
       "  </thead>\n",
       "  <tbody>\n",
       "    <tr>\n",
       "      <th>0</th>\n",
       "      <td>Совет юстиции Бразилии легализовал однополые б...</td>\n",
       "      <td>Совет юстиции Бразилии разрешил однополые браки.</td>\n",
       "      <td>1</td>\n",
       "      <td>51</td>\n",
       "      <td>48</td>\n",
       "      <td>3</td>\n",
       "    </tr>\n",
       "    <tr>\n",
       "      <th>1</th>\n",
       "      <td>\"Магнит\" поручится перед \"Абсолют Банком\" за к...</td>\n",
       "      <td>Выпуск сигарет в России упал из-за антитабачно...</td>\n",
       "      <td>-1</td>\n",
       "      <td>68</td>\n",
       "      <td>56</td>\n",
       "      <td>12</td>\n",
       "    </tr>\n",
       "    <tr>\n",
       "      <th>2</th>\n",
       "      <td>ЕС призвал США не бомбить Сирию до публикации ...</td>\n",
       "      <td>Евросоюз призвал США дождаться доклада ООН по ...</td>\n",
       "      <td>-1</td>\n",
       "      <td>58</td>\n",
       "      <td>52</td>\n",
       "      <td>6</td>\n",
       "    </tr>\n",
       "    <tr>\n",
       "      <th>3</th>\n",
       "      <td>Депо Московского метрополитена впервые перейде...</td>\n",
       "      <td>Частной компании впервые отдадут депо в москов...</td>\n",
       "      <td>1</td>\n",
       "      <td>63</td>\n",
       "      <td>57</td>\n",
       "      <td>6</td>\n",
       "    </tr>\n",
       "    <tr>\n",
       "      <th>4</th>\n",
       "      <td>Два человека погибли в столкновениях между кур...</td>\n",
       "      <td>Один человек погиб при столкновении судов у бе...</td>\n",
       "      <td>-1</td>\n",
       "      <td>59</td>\n",
       "      <td>58</td>\n",
       "      <td>1</td>\n",
       "    </tr>\n",
       "    <tr>\n",
       "      <th>5</th>\n",
       "      <td>Билалов продаст долю в «Красной поляне» в инте...</td>\n",
       "      <td>Михаила Гуцериева вывели на \"Красную Поляну\".</td>\n",
       "      <td>-1</td>\n",
       "      <td>62</td>\n",
       "      <td>45</td>\n",
       "      <td>17</td>\n",
       "    </tr>\n",
       "    <tr>\n",
       "      <th>6</th>\n",
       "      <td>В Сыктывкаре может пройти первый разрешенный в...</td>\n",
       "      <td>\"Роснефть\" закрылась в Лондоне.</td>\n",
       "      <td>-1</td>\n",
       "      <td>64</td>\n",
       "      <td>31</td>\n",
       "      <td>33</td>\n",
       "    </tr>\n",
       "    <tr>\n",
       "      <th>7</th>\n",
       "      <td>Половина земель на Кубани подготовлена к севу ...</td>\n",
       "      <td>Дешевых денег много не бывает.</td>\n",
       "      <td>-1</td>\n",
       "      <td>53</td>\n",
       "      <td>30</td>\n",
       "      <td>23</td>\n",
       "    </tr>\n",
       "    <tr>\n",
       "      <th>8</th>\n",
       "      <td>На Украине демонтируют мемориальную доску Иоси...</td>\n",
       "      <td>Иосиф Кобзон назвал ерундой снятие мемориально...</td>\n",
       "      <td>-1</td>\n",
       "      <td>56</td>\n",
       "      <td>64</td>\n",
       "      <td>8</td>\n",
       "    </tr>\n",
       "    <tr>\n",
       "      <th>9</th>\n",
       "      <td>Задержанные в Германии байкеры продолжили мото...</td>\n",
       "      <td>В Германии задержан байкер «Ночных волков»</td>\n",
       "      <td>-1</td>\n",
       "      <td>52</td>\n",
       "      <td>42</td>\n",
       "      <td>10</td>\n",
       "    </tr>\n",
       "    <tr>\n",
       "      <th>10</th>\n",
       "      <td>Путин: поставки Израилем оружия на Украину буд...</td>\n",
       "      <td>Президент России допустил поставки израильског...</td>\n",
       "      <td>-1</td>\n",
       "      <td>65</td>\n",
       "      <td>65</td>\n",
       "      <td>0</td>\n",
       "    </tr>\n",
       "    <tr>\n",
       "      <th>11</th>\n",
       "      <td>Белгородского стрелка ищут на Украине и в Черн...</td>\n",
       "      <td>Бегство «белгородского стрелка» на Украину опр...</td>\n",
       "      <td>-1</td>\n",
       "      <td>53</td>\n",
       "      <td>54</td>\n",
       "      <td>1</td>\n",
       "    </tr>\n",
       "    <tr>\n",
       "      <th>12</th>\n",
       "      <td>В Гостином дворе Киева произошел пожар.</td>\n",
       "      <td>В Киеве произошел пожар в Гостином дворе.</td>\n",
       "      <td>1</td>\n",
       "      <td>39</td>\n",
       "      <td>41</td>\n",
       "      <td>2</td>\n",
       "    </tr>\n",
       "    <tr>\n",
       "      <th>13</th>\n",
       "      <td>В Париже расстреляли трех курдских активисток.</td>\n",
       "      <td>В Париже застрелены три курдских активистки.</td>\n",
       "      <td>1</td>\n",
       "      <td>46</td>\n",
       "      <td>44</td>\n",
       "      <td>2</td>\n",
       "    </tr>\n",
       "    <tr>\n",
       "      <th>14</th>\n",
       "      <td>Убийство московского чиновника в Орле было зак...</td>\n",
       "      <td>Убийство московского чиновника в Орле признали...</td>\n",
       "      <td>1</td>\n",
       "      <td>52</td>\n",
       "      <td>56</td>\n",
       "      <td>4</td>\n",
       "    </tr>\n",
       "  </tbody>\n",
       "</table>\n",
       "</div>"
      ],
      "text/plain": [
       "                                               text_1  ... dif\n",
       "0   Совет юстиции Бразилии легализовал однополые б...  ...   3\n",
       "1   \"Магнит\" поручится перед \"Абсолют Банком\" за к...  ...  12\n",
       "2   ЕС призвал США не бомбить Сирию до публикации ...  ...   6\n",
       "3   Депо Московского метрополитена впервые перейде...  ...   6\n",
       "4   Два человека погибли в столкновениях между кур...  ...   1\n",
       "5   Билалов продаст долю в «Красной поляне» в инте...  ...  17\n",
       "6   В Сыктывкаре может пройти первый разрешенный в...  ...  33\n",
       "7   Половина земель на Кубани подготовлена к севу ...  ...  23\n",
       "8   На Украине демонтируют мемориальную доску Иоси...  ...   8\n",
       "9   Задержанные в Германии байкеры продолжили мото...  ...  10\n",
       "10  Путин: поставки Израилем оружия на Украину буд...  ...   0\n",
       "11  Белгородского стрелка ищут на Украине и в Черн...  ...   1\n",
       "12            В Гостином дворе Киева произошел пожар.  ...   2\n",
       "13     В Париже расстреляли трех курдских активисток.  ...   2\n",
       "14  Убийство московского чиновника в Орле было зак...  ...   4\n",
       "\n",
       "[15 rows x 6 columns]"
      ]
     },
     "execution_count": 20,
     "metadata": {
      "tags": []
     },
     "output_type": "execute_result"
    }
   ],
   "source": [
    "para.head(15)"
   ]
  },
  {
   "cell_type": "code",
   "execution_count": null,
   "metadata": {
    "colab": {
     "base_uri": "https://localhost:8080/",
     "height": 269
    },
    "id": "V1hf7Tzz3qJM",
    "outputId": "c200da50-1e2c-449a-dd64-bb51f9416498"
   },
   "outputs": [
    {
     "data": {
      "image/png": "[encoded data removed]",
      "text/plain": [
       "<Figure size 432x288 with 2 Axes>"
      ]
     },
     "metadata": {
      "needs_background": "light",
      "tags": []
     },
     "output_type": "display_data"
    }
   ],
   "source": [
    "b = para[['dif', 'class']]\n",
    "corrMatrix = b.corr()\n",
    "\n",
    "import seaborn as sn\n",
    "import matplotlib.pyplot as plt\n",
    "sn.heatmap(corrMatrix, annot=True)\n",
    "plt.show()"
   ]
  },
  {
   "cell_type": "code",
   "execution_count": null,
   "metadata": {
    "colab": {
     "base_uri": "https://localhost:8080/",
     "height": 34
    },
    "id": "1w_DjxT9TL27",
    "outputId": "29a6994a-5e0e-4b81-e8e9-8b3a1c973e3f"
   },
   "outputs": [
    {
     "data": {
      "text/plain": [
       "7.424763033175355"
      ]
     },
     "execution_count": 22,
     "metadata": {
      "tags": []
     },
     "output_type": "execute_result"
    }
   ],
   "source": [
    "para.loc[(para[\"class\"]==1)]['dif'].mean()"
   ]
  },
  {
   "cell_type": "code",
   "execution_count": null,
   "metadata": {
    "colab": {
     "base_uri": "https://localhost:8080/",
     "height": 34
    },
    "id": "lBqUxyS1SPk_",
    "outputId": "f4757b95-3f7c-4a94-9338-cf1bf9113458"
   },
   "outputs": [
    {
     "data": {
      "text/plain": [
       "14.275367931835786"
      ]
     },
     "execution_count": 23,
     "metadata": {
      "tags": []
     },
     "output_type": "execute_result"
    }
   ],
   "source": [
    "para.loc[(para[\"class\"]==-1)]['dif'].mean()"
   ]
  },
  {
   "cell_type": "markdown",
   "metadata": {
    "id": "JYHfOJo-Umyg"
   },
   "source": [
    "## Augmentation\n",
    "### since the classes are not 50/50, I want to try to equalize the proportions by excluding some of the \"-1\" part and adding \"1\" (only for train dataset)"
   ]
  },
  {
   "cell_type": "code",
   "execution_count": null,
   "metadata": {
    "colab": {
     "base_uri": "https://localhost:8080/"
    },
    "id": "nMiKCvPZVnRO",
    "outputId": "dbc2fb4e-9599-4a9b-aae1-5774ec1dc40b"
   },
   "outputs": [
    {
     "name": "stderr",
     "output_type": "stream",
     "text": [
      "/usr/local/lib/python3.6/dist-packages/gensim/matutils.py:737: FutureWarning: Conversion of the second argument of issubdtype from `int` to `np.signedinteger` is deprecated. In future, it will be treated as `np.int64 == np.dtype(int).type`.\n",
      "  if np.issubdtype(vec.dtype, np.int):\n"
     ]
    }
   ],
   "source": [
    "p = ['NOUN']\n",
    "aug1 = para.loc[(para[\"class\"]==1)]['text_1'].apply(lambda x: augment_word2vec_pos(x,p))"
   ]
  },
  {
   "cell_type": "code",
   "execution_count": null,
   "metadata": {
    "colab": {
     "base_uri": "https://localhost:8080/",
     "height": 221
    },
    "id": "hHPgh56FcIWF",
    "outputId": "a7334fba-6327-4f87-b691-97c965adaff7"
   },
   "outputs": [
    {
     "data": {
      "text/plain": [
       "0       комитет финансы 7:6 легализовал однополые супр...\n",
       "3       деповский Московского подземка впервые перейде...\n",
       "12            В Гостином сарай Киева произошел возгорание\n",
       "13           В париж расстреляли трех курдских комсомолка\n",
       "14      преступление московского чиновника в Орле было...\n",
       "                              ...                        \n",
       "8523    В Ираке ликвидировали министерство оборонитель...\n",
       "8531    МЧС ДНР деятельность по сборы осколок на место...\n",
       "8532    Яндекс сделал топографический мира подробнее и...\n",
       "8533    Газпром введет в эксплуатационный Турецкий стр...\n",
       "8539    В империализм успешно прошли испытательный обн...\n",
       "Name: text_1, Length: 3376, dtype: object"
      ]
     },
     "execution_count": 25,
     "metadata": {
      "tags": []
     },
     "output_type": "execute_result"
    }
   ],
   "source": [
    "aug1"
   ]
  },
  {
   "cell_type": "code",
   "execution_count": null,
   "metadata": {
    "colab": {
     "base_uri": "https://localhost:8080/"
    },
    "id": "-WpElexadhf3",
    "outputId": "51e8cd7d-ac56-4965-9ce1-0c99d91f49f5"
   },
   "outputs": [
    {
     "name": "stderr",
     "output_type": "stream",
     "text": [
      "  0%|          | 0/3376 [00:00<?, ?it/s]/usr/local/lib/python3.6/dist-packages/gensim/matutils.py:737: FutureWarning: Conversion of the second argument of issubdtype from `int` to `np.signedinteger` is deprecated. In future, it will be treated as `np.int64 == np.dtype(int).type`.\n",
      "  if np.issubdtype(vec.dtype, np.int):\n",
      "100%|██████████| 3376/3376 [05:18<00:00, 10.60it/s]\n"
     ]
    }
   ],
   "source": [
    "from tqdm import tqdm\n",
    "tqdm.pandas()\n",
    "p = ['NOUN']\n",
    "aug2 = para.loc[(para[\"class\"]==1)]['text_2'].progress_apply(lambda x: augment_word2vec_pos(x,p))"
   ]
  },
  {
   "cell_type": "code",
   "execution_count": null,
   "metadata": {
    "colab": {
     "base_uri": "https://localhost:8080/",
     "height": 221
    },
    "id": "TmZ8--6TfGKA",
    "outputId": "9c9c96da-5838-42d0-9947-fc613f15ce36"
   },
   "outputs": [
    {
     "data": {
      "text/plain": [
       "0       комитет финансы 7:6 разрешил однополые супруже...\n",
       "3       Частной фирма впервые отдадут деповский в моск...\n",
       "12          В Киеве произошел возгорание в Гостином сарай\n",
       "13             В париж застрелены три курдских комсомолка\n",
       "14      преступление московского чиновника в Орле приз...\n",
       "                              ...                        \n",
       "8523    В Ираке уничтожили военного министерство Ислам...\n",
       "8531    На место сползание аэробус в Донбассе завершен...\n",
       "8532       Яндекс запустил подробную топографический мира\n",
       "8533    Газпром начнет закупка пропан по Турецкому стр...\n",
       "8539    испытательный обновленного авиалайнер мечтание...\n",
       "Name: text_2, Length: 3376, dtype: object"
      ]
     },
     "execution_count": 27,
     "metadata": {
      "tags": []
     },
     "output_type": "execute_result"
    }
   ],
   "source": [
    "aug2"
   ]
  },
  {
   "cell_type": "code",
   "execution_count": null,
   "metadata": {
    "id": "H_BESD7cmVQt"
   },
   "outputs": [],
   "source": [
    "import numpy as np\n"
   ]
  },
  {
   "cell_type": "code",
   "execution_count": null,
   "metadata": {
    "id": "9mGkYVjDhNLF"
   },
   "outputs": [],
   "source": [
    "def get_vector(query):\n",
    "    lemmas = query.split(\" \")\n",
    "    lemmas_vectors = np.zeros((len(lemmas), model.vector_size))\n",
    "    vec = np.zeros((model.vector_size,))\n",
    "    for idx, lemma in enumerate(lemmas):\n",
    "         struct = punct.findall(lemma)\n",
    "         if struct:\n",
    "             struct = struct[0]\n",
    "         else:\n",
    "             lemmas_vectors[idx] = 0\n",
    "             continue\n",
    "         wordform = struct[1]\n",
    "         try:\n",
    "             parse_result = morph.parse(wordform)[0]\n",
    "             pos_tag = parse_result.tag.POS\n",
    "             q = parse_result.normal_form + \"_\" + pos_tag\n",
    "             if q in model:\n",
    "                 lemmas_vectors[idx] = model[q]\n",
    "         except:\n",
    "             continue\n",
    "    if lemmas_vectors.shape[0] is not 0:\n",
    "        vec = np.mean(lemmas_vectors, axis=0)\n",
    "    return vec"
   ]
  },
  {
   "cell_type": "markdown",
   "metadata": {
    "id": "nmK1VRAdNf8-"
   },
   "source": [
    "my theory is this - if we compare the original and augmented vectors in terms of semantic proximity, then we can see the quality and select the best ones. Because - a paraphrase means that the vectors must be similar. Therefore, if the difference between the proximity of the original 1 and 2 texts and augmented 1 and 2 - after the replacement is huge, the meaning somehow moved somewhere and it turned out to be nonsense. And we need the augmented to be in the same relation to each other as the original ones. Therefore, I will compare everything and select the best"
   ]
  },
  {
   "cell_type": "code",
   "execution_count": null,
   "metadata": {
    "id": "LGADMqI3iIP6"
   },
   "outputs": [],
   "source": [
    "aug2_vec = aug2.progress_apply(lambda x: get_vector(x))"
   ]
  },
  {
   "cell_type": "code",
   "execution_count": null,
   "metadata": {
    "id": "3NHO-YF6m2k9"
   },
   "outputs": [],
   "source": [
    "aug1_vec = aug1.progress_apply(lambda x: get_vector(x))"
   ]
  },
  {
   "cell_type": "code",
   "execution_count": null,
   "metadata": {
    "id": "JNrMhzOdm93q"
   },
   "outputs": [],
   "source": [
    "para2_vec = para.loc[(para[\"class\"]==1)]['text_2'].progress_apply(lambda x: get_vector(x))"
   ]
  },
  {
   "cell_type": "code",
   "execution_count": null,
   "metadata": {
    "id": "8wqJM0lrm-AV"
   },
   "outputs": [],
   "source": [
    "para1_vec = para.loc[(para[\"class\"]==1)]['text_1'].progress_apply(lambda x: get_vector(x))"
   ]
  },
  {
   "cell_type": "code",
   "execution_count": null,
   "metadata": {
    "id": "hdmlxBj2nUVE"
   },
   "outputs": [],
   "source": [
    "def cos(vec1, vec2):\n",
    "    cos = np.inner(vec1, vec2)/(np.linalg.norm(vec1)*np.linalg.norm(vec2))\n",
    "    return cos"
   ]
  },
  {
   "cell_type": "code",
   "execution_count": null,
   "metadata": {
    "colab": {
     "base_uri": "https://localhost:8080/",
     "height": 221
    },
    "id": "8GdHx_DlqhrU",
    "outputId": "d0e6a7ad-e6ee-4bdc-eb67-7873bab6d3a9"
   },
   "outputs": [
    {
     "data": {
      "text/plain": [
       "0       [-0.004981685429811478, -0.009686531809469065,...\n",
       "1       [-0.021774497348815203, 0.014320430113002658, ...\n",
       "2       [-0.015017051249742508, 0.009171820090462765, ...\n",
       "3       [-0.037002863362431526, 0.01858281282087167, -...\n",
       "4       [0.0003019770873444421, 0.0007939389241593224,...\n",
       "                              ...                        \n",
       "3371    [0.005123958789876529, -0.0036965327204338144,...\n",
       "3372    [0.0013209237632426348, 0.0010519705882126634,...\n",
       "3373    [-0.0016406937502324581, 0.012289352981107575,...\n",
       "3374    [0.00044547664001584055, -0.007126975059509277...\n",
       "3375    [0.016945413721259683, -0.025273758685216308, ...\n",
       "Name: text_1, Length: 3376, dtype: object"
      ]
     },
     "execution_count": 35,
     "metadata": {
      "tags": []
     },
     "output_type": "execute_result"
    }
   ],
   "source": [
    "para1_vec.reset_index()['text_1']"
   ]
  },
  {
   "cell_type": "code",
   "execution_count": null,
   "metadata": {
    "colab": {
     "base_uri": "https://localhost:8080/",
     "height": 51
    },
    "id": "rQfD33oengeI",
    "outputId": "fcccedfe-bd98-42b6-e223-e843e50f2f0e"
   },
   "outputs": [
    {
     "name": "stderr",
     "output_type": "stream",
     "text": [
      "/usr/local/lib/python3.6/dist-packages/ipykernel_launcher.py:2: RuntimeWarning: invalid value encountered in double_scalars\n",
      "  \n"
     ]
    }
   ],
   "source": [
    "comp1 = []\n",
    "comp2 = []\n",
    "para1_vec=para1_vec.reset_index()['text_1']\n",
    "para2_vec=para2_vec.reset_index()['text_2']\n",
    "aug1_vec = aug1_vec.reset_index()['text_1']\n",
    "aug2_vec = aug2_vec.reset_index()['text_2']\n",
    "for i, vec in enumerate(para1_vec):\n",
    "    comp1.append(cos(vec, para2_vec[i]))\n",
    "    comp2.append(cos(aug1_vec[i], aug2_vec[i]))"
   ]
  },
  {
   "cell_type": "code",
   "execution_count": null,
   "metadata": {
    "id": "i9uS6H2HokOt"
   },
   "outputs": [],
   "source": [
    "c = []\n",
    "for i in range(len(comp1)):\n",
    "    c.append(abs(comp1[i]-comp2[i]))"
   ]
  },
  {
   "cell_type": "code",
   "execution_count": null,
   "metadata": {
    "id": "4dD716dX0y4O"
   },
   "outputs": [],
   "source": [
    "best_aug = np.argsort(c)[:500] "
   ]
  },
  {
   "cell_type": "markdown",
   "metadata": {
    "id": "xYZXxf2QOicU"
   },
   "source": [
    "I took 500, because as you can see further, in the train 3k -1 and 2k 1, I want to balance it a little, but I don’t want to add a lot"
   ]
  },
  {
   "cell_type": "markdown",
   "metadata": {
    "id": "YMROVOUU2TT9"
   },
   "source": [
    "## train and test"
   ]
  },
  {
   "cell_type": "code",
   "execution_count": null,
   "metadata": {
    "id": "aewzB3IiXgB5"
   },
   "outputs": [],
   "source": [
    "from sklearn.model_selection import train_test_split\n"
   ]
  },
  {
   "cell_type": "code",
   "execution_count": null,
   "metadata": {
    "id": "4cPJH89E2ZIy"
   },
   "outputs": [],
   "source": [
    "train, test = train_test_split(para, test_size = 0.4, stratify = para['class'])"
   ]
  },
  {
   "cell_type": "code",
   "execution_count": null,
   "metadata": {
    "colab": {
     "base_uri": "https://localhost:8080/",
     "height": 68
    },
    "id": "CBNFik-g3-eq",
    "outputId": "e0524cac-6a1f-45d1-9c0d-c95fe8b85159"
   },
   "outputs": [
    {
     "data": {
      "text/plain": [
       "-1    3098\n",
       " 1    2026\n",
       "Name: class, dtype: int64"
      ]
     },
     "execution_count": 40,
     "metadata": {
      "tags": []
     },
     "output_type": "execute_result"
    }
   ],
   "source": [
    "train['class'].value_counts()"
   ]
  },
  {
   "cell_type": "code",
   "execution_count": null,
   "metadata": {
    "colab": {
     "base_uri": "https://localhost:8080/",
     "height": 34
    },
    "id": "N1ju0kT0rwdQ",
    "outputId": "3c6e697a-5b91-4c39-8a85-63f85e844342"
   },
   "outputs": [
    {
     "data": {
      "text/plain": [
       "(3416, 11)"
      ]
     },
     "execution_count": 198,
     "metadata": {
      "tags": []
     },
     "output_type": "execute_result"
    }
   ],
   "source": [
    "test.shape"
   ]
  },
  {
   "cell_type": "code",
   "execution_count": null,
   "metadata": {
    "colab": {
     "base_uri": "https://localhost:8080/",
     "height": 34
    },
    "id": "0J7Es1Ne52Dm",
    "outputId": "7503d2a7-e998-4183-a377-1faa81a39fe4"
   },
   "outputs": [
    {
     "data": {
      "text/plain": [
       "1648"
      ]
     },
     "execution_count": 41,
     "metadata": {
      "tags": []
     },
     "output_type": "execute_result"
    }
   ],
   "source": [
    " para.loc[(para[\"class\"]==1)]['text_1'].nunique()"
   ]
  },
  {
   "cell_type": "code",
   "execution_count": null,
   "metadata": {
    "colab": {
     "base_uri": "https://localhost:8080/",
     "height": 34
    },
    "id": "h3E7WIPv6HXP",
    "outputId": "8f60b7d0-3425-4c57-f1a2-00d9a4dd45fd"
   },
   "outputs": [
    {
     "data": {
      "text/plain": [
       "3376"
      ]
     },
     "execution_count": 42,
     "metadata": {
      "tags": []
     },
     "output_type": "execute_result"
    }
   ],
   "source": [
    "len( para.loc[(para[\"class\"]==1)]['text_1'])"
   ]
  },
  {
   "cell_type": "code",
   "execution_count": null,
   "metadata": {
    "id": "Vu6YkLcZ5oQK"
   },
   "outputs": [],
   "source": [
    "b = pd.DataFrame({'text_1':aug1.values[best_aug], 'text_2': aug2.values[best_aug], 'class': np.ones(500)})"
   ]
  },
  {
   "cell_type": "code",
   "execution_count": null,
   "metadata": {
    "id": "fCLgnRUZ4fxJ"
   },
   "outputs": [],
   "source": [
    "train = train.append(b).reset_index()"
   ]
  },
  {
   "cell_type": "code",
   "execution_count": null,
   "metadata": {
    "colab": {
     "base_uri": "https://localhost:8080/",
     "height": 476
    },
    "id": "sSm_eucY7KZD",
    "outputId": "b2465097-9198-4d82-858a-674ed9088d4f"
   },
   "outputs": [
    {
     "data": {
      "text/html": [
       "<div>\n",
       "<style scoped>\n",
       "    .dataframe tbody tr th:only-of-type {\n",
       "        vertical-align: middle;\n",
       "    }\n",
       "\n",
       "    .dataframe tbody tr th {\n",
       "        vertical-align: top;\n",
       "    }\n",
       "\n",
       "    .dataframe thead th {\n",
       "        text-align: right;\n",
       "    }\n",
       "</style>\n",
       "<table border=\"1\" class=\"dataframe\">\n",
       "  <thead>\n",
       "    <tr style=\"text-align: right;\">\n",
       "      <th></th>\n",
       "      <th>index</th>\n",
       "      <th>text_1</th>\n",
       "      <th>text_2</th>\n",
       "      <th>class</th>\n",
       "      <th>len_1</th>\n",
       "      <th>len_2</th>\n",
       "      <th>dif</th>\n",
       "      <th>lemm_1</th>\n",
       "      <th>lemm_2</th>\n",
       "      <th>vec_1</th>\n",
       "      <th>vec_2</th>\n",
       "      <th>cos</th>\n",
       "    </tr>\n",
       "  </thead>\n",
       "  <tbody>\n",
       "    <tr>\n",
       "      <th>0</th>\n",
       "      <td>1378</td>\n",
       "      <td>Кадыров хочет выяснить причины отмены дела про...</td>\n",
       "      <td>Кадыров попросил объяснить отмену дела против ...</td>\n",
       "      <td>1.0</td>\n",
       "      <td>69.0</td>\n",
       "      <td>72.0</td>\n",
       "      <td>3.0</td>\n",
       "      <td>кадыров хотеть выяснить причина отмена дело пр...</td>\n",
       "      <td>кадыров попросить объяснить отмена дело против...</td>\n",
       "      <td>[0.014932659454643726, -0.022280393530511193, ...</td>\n",
       "      <td>[0.011025388666894287, -0.011706965568009764, ...</td>\n",
       "      <td>0.752954</td>\n",
       "    </tr>\n",
       "    <tr>\n",
       "      <th>1</th>\n",
       "      <td>6743</td>\n",
       "      <td>Националисты предупредили мэрию о \"Русском мар...</td>\n",
       "      <td>Националисты уведомили мэрию о «Русском марше»...</td>\n",
       "      <td>1.0</td>\n",
       "      <td>60.0</td>\n",
       "      <td>64.0</td>\n",
       "      <td>4.0</td>\n",
       "      <td>националист предупредить мэрия русский марш лю...</td>\n",
       "      <td>националист уведомить мэрия русский марш район...</td>\n",
       "      <td>[-0.019380973419174552, 0.0026121967239305377,...</td>\n",
       "      <td>[-0.014476048863596387, 0.009184330287906859, ...</td>\n",
       "      <td>0.803923</td>\n",
       "    </tr>\n",
       "    <tr>\n",
       "      <th>2</th>\n",
       "      <td>3404</td>\n",
       "      <td>Аэропорт Катманду закрыт из-за землетрясения м...</td>\n",
       "      <td>Недалеко от столицы Непала произошло землетряс...</td>\n",
       "      <td>-1.0</td>\n",
       "      <td>59.0</td>\n",
       "      <td>65.0</td>\n",
       "      <td>6.0</td>\n",
       "      <td>аэропорт катманду закрытый землетрясение магни...</td>\n",
       "      <td>недалеко столица непал произойти землетрясение...</td>\n",
       "      <td>[-0.02681842419717993, 0.0059018563479185104, ...</td>\n",
       "      <td>[-0.02016339381225407, 0.006772616354282945, -...</td>\n",
       "      <td>0.793713</td>\n",
       "    </tr>\n",
       "    <tr>\n",
       "      <th>3</th>\n",
       "      <td>3516</td>\n",
       "      <td>Один из шести энергоблоков Запорожской АЭС отк...</td>\n",
       "      <td>Энергоблок Запорожской АЭС на Украине отключил...</td>\n",
       "      <td>1.0</td>\n",
       "      <td>59.0</td>\n",
       "      <td>55.0</td>\n",
       "      <td>4.0</td>\n",
       "      <td>шесть энергоблок запорожский аэс отключить сеть</td>\n",
       "      <td>энергоблок запорожский аэс украина отключить сеть</td>\n",
       "      <td>[-0.011160302286346754, -0.011015866779618792,...</td>\n",
       "      <td>[-0.008786598569713533, -0.002552958205342293,...</td>\n",
       "      <td>0.878696</td>\n",
       "    </tr>\n",
       "    <tr>\n",
       "      <th>4</th>\n",
       "      <td>8365</td>\n",
       "      <td>В комитете по транспорту правительства Петербу...</td>\n",
       "      <td>ФСБ обыскала комитет по транспорту Петербурга.</td>\n",
       "      <td>1.0</td>\n",
       "      <td>64.0</td>\n",
       "      <td>46.0</td>\n",
       "      <td>18.0</td>\n",
       "      <td>комитет транспорт правительство петербург прой...</td>\n",
       "      <td>фсб обыскать комитет транспорт петербург</td>\n",
       "      <td>[0.004139103417401202, -0.00855216570198536, 0...</td>\n",
       "      <td>[-0.008989887777715921, -3.6363101874788604e-0...</td>\n",
       "      <td>0.738568</td>\n",
       "    </tr>\n",
       "  </tbody>\n",
       "</table>\n",
       "</div>"
      ],
      "text/plain": [
       "   index  ...       cos\n",
       "0   1378  ...  0.752954\n",
       "1   6743  ...  0.803923\n",
       "2   3404  ...  0.793713\n",
       "3   3516  ...  0.878696\n",
       "4   8365  ...  0.738568\n",
       "\n",
       "[5 rows x 12 columns]"
      ]
     },
     "execution_count": 90,
     "metadata": {
      "tags": []
     },
     "output_type": "execute_result"
    }
   ],
   "source": [
    "train.head()"
   ]
  },
  {
   "cell_type": "markdown",
   "metadata": {
    "id": "Dg7SQyTq5SKk"
   },
   "source": [
    "## constructing text features"
   ]
  },
  {
   "cell_type": "code",
   "execution_count": null,
   "metadata": {
    "id": "9ZEoui165Wr7"
   },
   "outputs": [],
   "source": [
    "from sklearn.feature_extraction.text import CountVectorizer\n",
    "from sklearn.feature_extraction.text import TfidfVectorizer\n",
    "from sklearn.linear_model import LogisticRegression"
   ]
  },
  {
   "cell_type": "code",
   "execution_count": null,
   "metadata": {
    "id": "CaB__jmCcD3W"
   },
   "outputs": [],
   "source": [
    "cv=CountVectorizer(ngram_range=(1,1))\n",
    "cv_train = cv.fit_transform(train['text_1'].append(train['text_2']))\n",
    "cv_test_1 = cv.transform(test['text_1'])\n",
    "cv_test_2 = cv.transform(test['text_2'])\n",
    "cv_train = cv_train[:int(cv_train.shape[0]/2)].multiply(cv_train[int(cv_train.shape[0]/2):])\n",
    "cv_test = cv_test_1.multiply(cv_test_2)"
   ]
  },
  {
   "cell_type": "code",
   "execution_count": null,
   "metadata": {
    "id": "lLXyXLL_cK6U"
   },
   "outputs": [],
   "source": [
    "clf = LogisticRegression().fit(cv_train, train['class'])\n",
    "predicted = clf.predict(cv_test)\n",
    "from sklearn.metrics import *\n",
    "acc = accuracy_score(test['class'], predicted)\n",
    "print('accuracy={0:1.4f}'.format(acc))"
   ]
  },
  {
   "cell_type": "code",
   "execution_count": null,
   "metadata": {
    "id": "-WOHZkRuEdFV"
   },
   "outputs": [],
   "source": [
    "train['lemm_1'] = train['text_1'].progress_apply(lambda x: preprocess(x))\n",
    "train['lemm_2'] = train['text_2'].progress_apply(lambda x: preprocess(x))\n",
    "test['lemm_1'] = test['text_1'].progress_apply(lambda x: preprocess(x))\n",
    "test['lemm_2'] = test['text_2'].progress_apply(lambda x: preprocess(x))"
   ]
  },
  {
   "cell_type": "code",
   "execution_count": null,
   "metadata": {
    "id": "wHKeRWMe9jtv"
   },
   "outputs": [],
   "source": [
    "x_train_1 = train['lemm_1']\n",
    "x_train_2 = train['lemm_2']\n",
    "x_test_1 = test['lemm_1']\n",
    "x_test_2 = test['lemm_2']"
   ]
  },
  {
   "cell_type": "code",
   "execution_count": null,
   "metadata": {
    "id": "EN8TU9_jRMMQ"
   },
   "outputs": [],
   "source": [
    "cv=CountVectorizer(ngram_range=(1,1))\n",
    "cv_train = cv.fit_transform(x_train_1.append(x_train_2))\n",
    "cv_test_1 = cv.transform(x_test_1)\n",
    "cv_test_2 = cv.transform(x_test_2)\n",
    "cv_train = cv_train[:int(cv_train.shape[0]/2)].multiply(cv_train[int(cv_train.shape[0]/2):])\n",
    "cv_test = cv_test_1.multiply(cv_test_2)"
   ]
  },
  {
   "cell_type": "code",
   "execution_count": null,
   "metadata": {
    "id": "n8jDYKkAdAsH"
   },
   "outputs": [],
   "source": [
    "clf = LogisticRegression().fit(cv_train, train['class'])\n",
    "predicted = clf.predict(cv_test)\n",
    "from sklearn.metrics import *\n",
    "acc = accuracy_score(test['class'], predicted)\n",
    "print('accuracy={0:1.4f}'.format(acc))"
   ]
  },
  {
   "cell_type": "code",
   "execution_count": null,
   "metadata": {
    "id": "LsISD3bG20bH"
   },
   "outputs": [],
   "source": [
    "tf=TfidfVectorizer(ngram_range=(1,1))\n",
    "tf_train = tf.fit_transform(x_train_1.append(x_train_2))\n",
    "tf_test_1 = tf.transform(x_test_1)\n",
    "tf_test_2 = tf.transform(x_test_2)\n",
    "tf_train = tf_train[:int(tf_train.shape[0]/2)].multiply(tf_train[int(tf_train.shape[0]/2):])\n",
    "tf_test = tf_test_1.multiply(tf_test_2)"
   ]
  },
  {
   "cell_type": "code",
   "execution_count": null,
   "metadata": {
    "colab": {
     "base_uri": "https://localhost:8080/",
     "height": 34
    },
    "id": "48zJs-4E_fIi",
    "outputId": "b9ca45f8-c2ff-48da-a633-26fd400f7dc9"
   },
   "outputs": [
    {
     "name": "stdout",
     "output_type": "stream",
     "text": [
      "accuracy=0.8577\n"
     ]
    }
   ],
   "source": [
    "clf = LogisticRegression().fit(cv_train, train['class'])\n",
    "predicted = clf.predict(cv_test)\n",
    "from sklearn.metrics import *\n",
    "acc = accuracy_score(test['class'], predicted)\n",
    "print('accuracy={0:1.4f}'.format(acc))"
   ]
  },
  {
   "cell_type": "markdown",
   "metadata": {
    "id": "z10yAjfhcUyu"
   },
   "source": [
    "trying n-gramms"
   ]
  },
  {
   "cell_type": "code",
   "execution_count": null,
   "metadata": {
    "id": "Z8IzU4dScW66"
   },
   "outputs": [],
   "source": [
    "cv=CountVectorizer(ngram_range=(1,2))\n",
    "cv_train = cv.fit_transform(x_train_1.append(x_train_2))\n",
    "cv_test_1 = cv.transform(x_test_1)\n",
    "cv_test_2 = cv.transform(x_test_2)\n",
    "cv_train = cv_train[:int(cv_train.shape[0]/2)].multiply(cv_train[int(cv_train.shape[0]/2):])\n",
    "cv_test = cv_test_1.multiply(cv_test_2)"
   ]
  },
  {
   "cell_type": "code",
   "execution_count": null,
   "metadata": {
    "id": "18buPm-HdJDI"
   },
   "outputs": [],
   "source": [
    "clf = LogisticRegression().fit(cv_train, train['class'])\n",
    "predicted = clf.predict(cv_test)\n",
    "from sklearn.metrics import *\n",
    "acc = accuracy_score(test['class'], predicted)\n",
    "print('accuracy={0:1.4f}'.format(acc))"
   ]
  },
  {
   "cell_type": "code",
   "execution_count": null,
   "metadata": {
    "id": "AEniQPMtcY3v"
   },
   "outputs": [],
   "source": [
    "cv=CountVectorizer(ngram_range=(1,3))\n",
    "cv_train = cv.fit_transform(x_train_1.append(x_train_2))\n",
    "cv_test_1 = cv.transform(x_test_1)\n",
    "cv_test_2 = cv.transform(x_test_2)\n",
    "cv_train = cv_train[:int(cv_train.shape[0]/2)].multiply(cv_train[int(cv_train.shape[0]/2):])\n",
    "cv_test = cv_test_1.multiply(cv_test_2)"
   ]
  },
  {
   "cell_type": "code",
   "execution_count": null,
   "metadata": {
    "id": "48eU3LvkdLhd"
   },
   "outputs": [],
   "source": [
    "clf = LogisticRegression().fit(cv_train, train['class'])\n",
    "predicted = clf.predict(cv_test)\n",
    "from sklearn.metrics import *\n",
    "acc = accuracy_score(test['class'], predicted)\n",
    "print('accuracy={0:1.4f}'.format(acc))"
   ]
  },
  {
   "cell_type": "markdown",
   "metadata": {
    "id": "WAbbiWrtccJd"
   },
   "source": [
    "trying w2v"
   ]
  },
  {
   "cell_type": "code",
   "execution_count": null,
   "metadata": {
    "id": "dDGKzyBXjVtp"
   },
   "outputs": [],
   "source": [
    "train['vec_1'] = train['text_1'].progress_apply(lambda x: get_vector(x))\n",
    "train['vec_2'] = train['text_2'].progress_apply(lambda x: get_vector(x))\n",
    "test['vec_1'] = test['text_1'].progress_apply(lambda x: get_vector(x))\n",
    "test['vec_2'] = test['text_2'].progress_apply(lambda x: get_vector(x))"
   ]
  },
  {
   "cell_type": "code",
   "execution_count": null,
   "metadata": {
    "colab": {
     "base_uri": "https://localhost:8080/",
     "height": 51
    },
    "id": "nCUmnw9Xo1zf",
    "outputId": "2b47113a-705b-4371-cc0c-88e55105906e"
   },
   "outputs": [
    {
     "name": "stderr",
     "output_type": "stream",
     "text": [
      "/usr/local/lib/python3.6/dist-packages/ipykernel_launcher.py:2: RuntimeWarning: invalid value encountered in double_scalars\n",
      "  \n"
     ]
    }
   ],
   "source": [
    "train_vec = []\n",
    "one_vec=train['vec_1'].values\n",
    "two_vec=train['vec_2'].values\n",
    "for i, vec in enumerate(one_vec):\n",
    "    train_vec.append(cos(vec, two_vec[i]))\n",
    "    if cos(vec, two_vec[i])== 'nan':\n",
    "        print('f')"
   ]
  },
  {
   "cell_type": "code",
   "execution_count": null,
   "metadata": {
    "colab": {
     "base_uri": "https://localhost:8080/",
     "height": 272
    },
    "id": "l56XdQaqqqWK",
    "outputId": "250d76d2-04af-488d-d656-67f098999d6d"
   },
   "outputs": [
    {
     "name": "stdout",
     "output_type": "stream",
     "text": [
      "71\n",
      "81\n",
      "632\n",
      "841\n",
      "1513\n",
      "1786\n",
      "1829\n",
      "2508\n",
      "2572\n",
      "2670\n",
      "2862\n",
      "3339\n",
      "3484\n",
      "4403\n",
      "5002\n"
     ]
    }
   ],
   "source": [
    "for v,i in enumerate(pd.isnull(train_vec)):\n",
    "    if i == True:\n",
    "        print(v)"
   ]
  },
  {
   "cell_type": "code",
   "execution_count": null,
   "metadata": {
    "id": "8F3OWr15sEij"
   },
   "outputs": [],
   "source": [
    "train['cos'] = train_vec"
   ]
  },
  {
   "cell_type": "code",
   "execution_count": null,
   "metadata": {
    "colab": {
     "base_uri": "https://localhost:8080/",
     "height": 51
    },
    "id": "FoS46Jp0pgIF",
    "outputId": "dc4ff8dd-e5a0-43fe-f87f-1b659a4e5afb"
   },
   "outputs": [
    {
     "name": "stderr",
     "output_type": "stream",
     "text": [
      "/usr/local/lib/python3.6/dist-packages/ipykernel_launcher.py:2: RuntimeWarning: invalid value encountered in double_scalars\n",
      "  \n"
     ]
    }
   ],
   "source": [
    "test_vec = []\n",
    "one_vec=test['vec_1'].values\n",
    "two_vec=test['vec_2'].values\n",
    "for i, vec in enumerate(one_vec):\n",
    "    test_vec.append(cos(vec, two_vec[i]))"
   ]
  },
  {
   "cell_type": "code",
   "execution_count": null,
   "metadata": {
    "colab": {
     "base_uri": "https://localhost:8080/",
     "height": 119
    },
    "id": "eZCk4YDnt4Vk",
    "outputId": "c197c45d-8ae4-4858-8841-39afecb3f2d4"
   },
   "outputs": [
    {
     "name": "stderr",
     "output_type": "stream",
     "text": [
      "/usr/local/lib/python3.6/dist-packages/ipykernel_launcher.py:1: SettingWithCopyWarning: \n",
      "A value is trying to be set on a copy of a slice from a DataFrame.\n",
      "Try using .loc[row_indexer,col_indexer] = value instead\n",
      "\n",
      "See the caveats in the documentation: https://pandas.pydata.org/pandas-docs/stable/user_guide/indexing.html#returning-a-view-versus-a-copy\n",
      "  \"\"\"Entry point for launching an IPython kernel.\n"
     ]
    }
   ],
   "source": [
    "test['cos'] = test_vec"
   ]
  },
  {
   "cell_type": "code",
   "execution_count": null,
   "metadata": {
    "id": "gzMKO-frt8Pm"
   },
   "outputs": [],
   "source": [
    "v_train = train.dropna().reset_index()\n",
    "v_test = test.dropna().reset_index()"
   ]
  },
  {
   "cell_type": "code",
   "execution_count": null,
   "metadata": {
    "colab": {
     "base_uri": "https://localhost:8080/",
     "height": 34
    },
    "id": "yyW89IjOqC20",
    "outputId": "f90d11d1-ed40-43ab-a46b-d7fe4180a12f"
   },
   "outputs": [
    {
     "name": "stdout",
     "output_type": "stream",
     "text": [
      "accuracy=0.7670\n"
     ]
    }
   ],
   "source": [
    "clf = LogisticRegression().fit(np.array(v_train[['cos']]).reshape(-1, 1), v_train['class'])\n",
    "predicted = clf.predict(np.array(v_test['cos']).reshape(-1, 1))\n",
    "from sklearn.metrics import *\n",
    "acc = accuracy_score(v_test['class'], predicted)\n",
    "print('accuracy={0:1.4f}'.format(acc))"
   ]
  },
  {
   "cell_type": "markdown",
   "metadata": {
    "id": "43i2rTbk7fBy"
   },
   "source": [
    "## hyperparameters search, reducing overfitting\n",
    "## selecting best model"
   ]
  },
  {
   "cell_type": "code",
   "execution_count": null,
   "metadata": {
    "colab": {
     "base_uri": "https://localhost:8080/",
     "height": 51
    },
    "id": "ye7FnfGPPH_Z",
    "outputId": "849759a0-f741-433a-b17c-04499b8a09cb"
   },
   "outputs": [
    {
     "name": "stdout",
     "output_type": "stream",
     "text": [
      "tuned hpyerparameters :(best parameters)  {'C': 10.0, 'penalty': 'l2'}\n",
      "accuracy : 0.8355268231323049\n"
     ]
    }
   ],
   "source": [
    "from sklearn.model_selection import GridSearchCV\n",
    "from sklearn.linear_model import LogisticRegression\n",
    "grid={\"C\":np.logspace(-3,3,7), \"penalty\":[\"l2\"]}\n",
    "logreg=LogisticRegression(max_iter=1000, solver='lbfgs')\n",
    "logreg_cv=GridSearchCV(logreg,grid,cv=10)\n",
    "logreg_cv.fit(cv_train, train['class'])\n",
    "\n",
    "print(\"tuned hpyerparameters :(best parameters) \",logreg_cv.best_params_)\n",
    "print(\"accuracy :\",logreg_cv.best_score_)"
   ]
  },
  {
   "cell_type": "code",
   "execution_count": null,
   "metadata": {
    "colab": {
     "base_uri": "https://localhost:8080/",
     "height": 34
    },
    "id": "Ujj8CcZxU6xJ",
    "outputId": "87184d1e-7065-45a9-d1a0-4914bd7e491d"
   },
   "outputs": [
    {
     "name": "stdout",
     "output_type": "stream",
     "text": [
      "accuracy=0.8829\n"
     ]
    }
   ],
   "source": [
    "logreg=LogisticRegression(max_iter=1000, solver='lbfgs', penalty='l2', C=10.0)\n",
    "logreg.fit(cv_train, train['class'])\n",
    "predicted = logreg.predict(cv_test)\n",
    "acc = accuracy_score(test['class'], predicted)\n",
    "print('accuracy={0:1.4f}'.format(acc))"
   ]
  },
  {
   "cell_type": "code",
   "execution_count": null,
   "metadata": {
    "colab": {
     "base_uri": "https://localhost:8080/",
     "height": 85
    },
    "id": "FXbWzENRu3FR",
    "outputId": "6dea7f08-7fb1-4c91-d280-c7ee5fd3c4a1"
   },
   "outputs": [
    {
     "name": "stderr",
     "output_type": "stream",
     "text": [
      "/usr/local/lib/python3.6/dist-packages/sklearn/svm/_base.py:947: ConvergenceWarning: Liblinear failed to converge, increase the number of iterations.\n",
      "  \"the number of iterations.\", ConvergenceWarning)\n"
     ]
    },
    {
     "name": "stdout",
     "output_type": "stream",
     "text": [
      "tuned hpyerparameters :(best parameters)  {'C': 10.0, 'penalty': 'l2'}\n",
      "accuracy : 0.8355268231323049\n"
     ]
    }
   ],
   "source": [
    "grid={\"C\":np.logspace(-3,3,7), \"penalty\":[\"l1\",\"l2\"]}\n",
    "logreg=LogisticRegression(max_iter=1000, solver='liblinear')\n",
    "logreg_cv=GridSearchCV(logreg,grid,cv=10)\n",
    "logreg_cv.fit(cv_train, train['class'])\n",
    "\n",
    "print(\"tuned hpyerparameters :(best parameters) \",logreg_cv.best_params_)\n",
    "print(\"accuracy :\",logreg_cv.best_score_)"
   ]
  },
  {
   "cell_type": "code",
   "execution_count": null,
   "metadata": {
    "colab": {
     "base_uri": "https://localhost:8080/",
     "height": 34
    },
    "id": "WS-ajoIsVSN7",
    "outputId": "36f5ecb3-6eaa-464d-d7e8-25eece9acb92"
   },
   "outputs": [
    {
     "name": "stdout",
     "output_type": "stream",
     "text": [
      "accuracy=0.8829\n"
     ]
    }
   ],
   "source": [
    "logreg=LogisticRegression(max_iter=1000, solver='liblinear', penalty='l2', C=10.0)\n",
    "logreg.fit(cv_train, train['class'])\n",
    "predicted = logreg.predict(cv_test)\n",
    "acc = accuracy_score(test['class'], predicted)\n",
    "print('accuracy={0:1.4f}'.format(acc))"
   ]
  },
  {
   "cell_type": "code",
   "execution_count": null,
   "metadata": {
    "colab": {
     "base_uri": "https://localhost:8080/",
     "height": 102
    },
    "id": "BLM7yRCazJHl",
    "outputId": "0c42acd5-aa2b-4314-e2b0-a7e506251222"
   },
   "outputs": [
    {
     "name": "stdout",
     "output_type": "stream",
     "text": [
      "Fitting 5 folds for each of 60 candidates, totalling 300 fits\n"
     ]
    },
    {
     "name": "stderr",
     "output_type": "stream",
     "text": [
      "[Parallel(n_jobs=-1)]: Using backend LokyBackend with 2 concurrent workers.\n",
      "[Parallel(n_jobs=-1)]: Done  46 tasks      | elapsed:  6.7min\n",
      "[Parallel(n_jobs=-1)]: Done 196 tasks      | elapsed: 29.7min\n",
      "[Parallel(n_jobs=-1)]: Done 300 out of 300 | elapsed: 45.7min finished\n"
     ]
    }
   ],
   "source": [
    "from sklearn.pipeline import Pipeline \n",
    "from sklearn.model_selection import GridSearchCV\n",
    "from sklearn.ensemble import RandomForestClassifier\n",
    "pipe = Pipeline([('classifier', RandomForestClassifier())])\n",
    "\n",
    "param_grid = [\n",
    "    {'classifier' : [RandomForestClassifier()],\n",
    "    'classifier__n_estimators' : list(range(10,101,10)),\n",
    "    'classifier__max_features' : list(range(6,32,5))} \n",
    "]\n",
    "\n",
    "clf = GridSearchCV(pipe, param_grid = param_grid, cv = 5, verbose=True, n_jobs=-1)\n",
    "best_clf = clf.fit(cv_train, train['class'])"
   ]
  },
  {
   "cell_type": "code",
   "execution_count": null,
   "metadata": {
    "colab": {
     "base_uri": "https://localhost:8080/",
     "height": 34
    },
    "id": "jT3Q2A28zPhC",
    "outputId": "46814f98-fb5d-41e8-d151-3b0fddbbee41"
   },
   "outputs": [
    {
     "name": "stdout",
     "output_type": "stream",
     "text": [
      "accuracy=0.8706\n"
     ]
    }
   ],
   "source": [
    "predicted = best_clf.predict(cv_test)\n",
    "acc = accuracy_score(test['class'], predicted)\n",
    "print('accuracy={0:1.4f}'.format(acc))"
   ]
  },
  {
   "cell_type": "code",
   "execution_count": null,
   "metadata": {
    "id": "tc7yguIFiVIV"
   },
   "outputs": [],
   "source": [
    "from sklearn.feature_extraction.text import TfidfTransformer\n",
    "import matplotlib.pyplot as plt\n",
    "from sklearn.linear_model import SGDClassifier"
   ]
  },
  {
   "cell_type": "code",
   "execution_count": null,
   "metadata": {
    "colab": {
     "base_uri": "https://localhost:8080/",
     "height": 367
    },
    "id": "oMntln5ciX9f",
    "outputId": "469df7d8-b351-4e21-9b65-dabcdebdf2b5"
   },
   "outputs": [
    {
     "name": "stderr",
     "output_type": "stream",
     "text": [
      "/usr/local/lib/python3.6/dist-packages/sklearn/linear_model/_stochastic_gradient.py:557: ConvergenceWarning: Maximum number of iteration reached before convergence. Consider increasing max_iter to improve the fit.\n",
      "  ConvergenceWarning)\n"
     ]
    },
    {
     "data": {
      "text/plain": [
       "[<matplotlib.lines.Line2D at 0x7fe2bb149390>]"
      ]
     },
     "execution_count": 132,
     "metadata": {
      "tags": []
     },
     "output_type": "execute_result"
    },
    {
     "data": {
      "image/png": "[encoded data removed]",
      "text/plain": [
       "<Figure size 432x288 with 1 Axes>"
      ]
     },
     "metadata": {
      "needs_background": "light",
      "tags": []
     },
     "output_type": "display_data"
    }
   ],
   "source": [
    "losses = [\"hinge\", \"log\", \"modified_huber\", \"perceptron\", \"squared_hinge\"]\n",
    "scores = []\n",
    "for loss in losses:\n",
    "    model = SGDClassifier(loss=loss, max_iter=1000)\n",
    "    model.fit(cv_train, train['class'])\n",
    "    scores.append(model.score(cv_test, test['class']))\n",
    "  \n",
    "plt.title(\"Effect of loss\")\n",
    "plt.xlabel(\"loss\")\n",
    "plt.ylabel(\"score\")\n",
    "x = np.arange(len(losses))\n",
    "plt.xticks(x, losses)\n",
    "plt.plot(x, scores) "
   ]
  },
  {
   "cell_type": "code",
   "execution_count": null,
   "metadata": {
    "colab": {
     "base_uri": "https://localhost:8080/",
     "height": 51
    },
    "id": "nfXUiwOykRXX",
    "outputId": "8d2d6c49-ecf3-428d-c034-868dab03e738"
   },
   "outputs": [
    {
     "name": "stdout",
     "output_type": "stream",
     "text": [
      "tuned hpyerparameters :(best parameters)  {'alpha': 0.0001, 'loss': 'perceptron', 'penalty': 'l2'}\n",
      "accuracy : 0.8396187177234312\n"
     ]
    }
   ],
   "source": [
    "grid={\"alpha\": [0.0001, 0.001, 0.01, 0.1], \"penalty\":[\"l1\",\"l2\"], \"loss\" : [\"perceptron\", \"hinge\"]}\n",
    "logreg=SGDClassifier()\n",
    "logreg_cv=GridSearchCV(logreg,grid,cv=10)\n",
    "logreg_cv.fit(cv_train, train['class'])\n",
    "\n",
    "print(\"tuned hpyerparameters :(best parameters) \",logreg_cv.best_params_)\n",
    "print(\"accuracy :\",logreg_cv.best_score_)"
   ]
  },
  {
   "cell_type": "code",
   "execution_count": null,
   "metadata": {
    "colab": {
     "base_uri": "https://localhost:8080/",
     "height": 34
    },
    "id": "6i6FlVqnkhbS",
    "outputId": "d598dc62-1044-4651-c45a-4a45a9a6534a"
   },
   "outputs": [
    {
     "name": "stdout",
     "output_type": "stream",
     "text": [
      "accuracy=0.8870\n"
     ]
    }
   ],
   "source": [
    "logreg=SGDClassifier(alpha=0.0001, penalty='l2', loss ='perceptron')\n",
    "logreg.fit(cv_train, train['class'])\n",
    "predicted = logreg.predict(cv_test)\n",
    "acc = accuracy_score(test['class'], predicted)\n",
    "print('accuracy={0:1.4f}'.format(acc))"
   ]
  },
  {
   "cell_type": "code",
   "execution_count": null,
   "metadata": {
    "colab": {
     "base_uri": "https://localhost:8080/",
     "height": 34
    },
    "id": "BtJHdbCinWCK",
    "outputId": "c69c946b-bb5d-40f7-93ae-0854732d68f6"
   },
   "outputs": [
    {
     "name": "stdout",
     "output_type": "stream",
     "text": [
      "accuracy=0.8405\n"
     ]
    }
   ],
   "source": [
    "from sklearn.naive_bayes import MultinomialNB\n",
    "clf = MultinomialNB().fit(cv_train, train['class'])\n",
    "predicted = clf.predict(cv_test)\n",
    "acc = accuracy_score(test['class'], predicted)\n",
    "print('accuracy={0:1.4f}'.format(acc))"
   ]
  },
  {
   "cell_type": "markdown",
   "metadata": {
    "id": "WdeSp7C_HC8I"
   },
   "source": [
    "## Errors analysis"
   ]
  },
  {
   "cell_type": "code",
   "execution_count": null,
   "metadata": {
    "colab": {
     "base_uri": "https://localhost:8080/",
     "height": 34
    },
    "id": "pDN3zkn1pTWL",
    "outputId": "93a45717-8649-42b5-cdd9-406e6c6a480f"
   },
   "outputs": [
    {
     "name": "stdout",
     "output_type": "stream",
     "text": [
      "accuracy=0.8829\n"
     ]
    }
   ],
   "source": [
    "logreg=LogisticRegression(max_iter=1000, solver='liblinear', penalty='l2', C=10.0)\n",
    "logreg.fit(cv_train, train['class'])\n",
    "predicted = logreg.predict(cv_test)\n",
    "acc = accuracy_score(test['class'], predicted)\n",
    "print('accuracy={0:1.4f}'.format(acc))"
   ]
  },
  {
   "cell_type": "code",
   "execution_count": null,
   "metadata": {
    "colab": {
     "base_uri": "https://localhost:8080/",
     "height": 51
    },
    "id": "voJW2xxdZ9Cm",
    "outputId": "a50e818a-9c3e-43b3-a0b2-cf3bb6ae8d62"
   },
   "outputs": [
    {
     "name": "stdout",
     "output_type": "stream",
     "text": [
      "accuracy=0.8829\n",
      "F=0.8395, Precision=0.9159, Recall=0.7748\n"
     ]
    }
   ],
   "source": [
    "acc = accuracy_score(test['class'], predicted)\n",
    "f = f1_score(test['class'], predicted)\n",
    "p = precision_score(test['class'], predicted)\n",
    "r = recall_score(test['class'], predicted)\n",
    "print('accuracy={0:1.4f}'.format(acc))\n",
    "print('F={0:1.4f}, Precision={1:1.4f}, Recall={2:1.4f}'.format(f, p, r))"
   ]
  },
  {
   "cell_type": "code",
   "execution_count": null,
   "metadata": {
    "colab": {
     "base_uri": "https://localhost:8080/",
     "height": 279
    },
    "id": "iIYv4AHAZ9vz",
    "outputId": "cce6e578-d6fd-480f-d0b1-79b708e35718"
   },
   "outputs": [
    {
     "data": {
      "image/png": "[encoded data removed]",
      "text/plain": [
       "<Figure size 432x288 with 1 Axes>"
      ]
     },
     "metadata": {
      "needs_background": "light",
      "tags": []
     },
     "output_type": "display_data"
    }
   ],
   "source": [
    "import numpy as np\n",
    "from sklearn.metrics import roc_auc_score, roc_curve\n",
    "from matplotlib import pyplot\n",
    "fpr, tpr, thrhld = roc_curve(test['class'], predicted)\n",
    "pyplot.plot(fpr, tpr, marker='.', label='Test')\n",
    "pyplot.xlabel('False Positive Rate')\n",
    "pyplot.ylabel('True Positive Rate')\n",
    "pyplot.legend()\n",
    "pyplot.show()"
   ]
  },
  {
   "cell_type": "code",
   "execution_count": null,
   "metadata": {
    "colab": {
     "base_uri": "https://localhost:8080/",
     "height": 34
    },
    "id": "KMPDy0qeaDDm",
    "outputId": "2ffe47de-d8ce-480b-8e2e-b50189c8b34e"
   },
   "outputs": [
    {
     "name": "stdout",
     "output_type": "stream",
     "text": [
      "0.8641741063425478\n"
     ]
    }
   ],
   "source": [
    "print(roc_auc_score(test['class'], predicted))"
   ]
  },
  {
   "cell_type": "code",
   "execution_count": null,
   "metadata": {
    "id": "ek4XuKbCs5QG"
   },
   "outputs": [],
   "source": [
    "from sklearn.metrics import confusion_matrix\n",
    "tn, fp, fn, tp = confusion_matrix(test['class'], predicted).ravel()"
   ]
  },
  {
   "cell_type": "code",
   "execution_count": null,
   "metadata": {
    "colab": {
     "base_uri": "https://localhost:8080/",
     "height": 34
    },
    "id": "rbM0io5Js8Xq",
    "outputId": "95c2fdb2-44e2-4a28-d53d-2b810dbaac62"
   },
   "outputs": [
    {
     "data": {
      "text/plain": [
       "(1970, 96, 304, 1046)"
      ]
     },
     "execution_count": 209,
     "metadata": {
      "tags": []
     },
     "output_type": "execute_result"
    }
   ],
   "source": [
    "(tn, fp, fn, tp)"
   ]
  },
  {
   "cell_type": "code",
   "execution_count": null,
   "metadata": {
    "colab": {
     "base_uri": "https://localhost:8080/",
     "height": 68
    },
    "id": "UCbvs_JerdJP",
    "outputId": "72ca0476-5277-4ba2-e319-e02497ea93ad"
   },
   "outputs": [
    {
     "data": {
      "text/plain": [
       "-1    2066\n",
       " 1    1350\n",
       "Name: class, dtype: int64"
      ]
     },
     "execution_count": 196,
     "metadata": {
      "tags": []
     },
     "output_type": "execute_result"
    }
   ],
   "source": [
    "test['class'].value_counts()"
   ]
  },
  {
   "cell_type": "code",
   "execution_count": null,
   "metadata": {
    "colab": {
     "base_uri": "https://localhost:8080/",
     "height": 34
    },
    "id": "tzHZ3SKFtQpI",
    "outputId": "6733d948-d6ba-4faf-d64c-9e108e325005"
   },
   "outputs": [
    {
     "data": {
      "text/plain": [
       "0.048730964467005075"
      ]
     },
     "execution_count": 214,
     "metadata": {
      "tags": []
     },
     "output_type": "execute_result"
    }
   ],
   "source": [
    "fp/tn"
   ]
  },
  {
   "cell_type": "code",
   "execution_count": null,
   "metadata": {
    "colab": {
     "base_uri": "https://localhost:8080/",
     "height": 34
    },
    "id": "BlwO0J_GrHtM",
    "outputId": "30dacbf1-f32e-4b18-c411-a66b9b36f1e0"
   },
   "outputs": [
    {
     "data": {
      "text/plain": [
       "0.29063097514340347"
      ]
     },
     "execution_count": 215,
     "metadata": {
      "tags": []
     },
     "output_type": "execute_result"
    }
   ],
   "source": [
    "fn/tp"
   ]
  },
  {
   "cell_type": "code",
   "execution_count": null,
   "metadata": {
    "id": "p3hkvpu7uEDm"
   },
   "outputs": [],
   "source": [
    "train, test = train_test_split(para, test_size = 0.3, stratify = para['class'])"
   ]
  },
  {
   "cell_type": "code",
   "execution_count": null,
   "metadata": {
    "id": "aB05F4V4upum"
   },
   "outputs": [],
   "source": [
    "train['lemm_1'] = train['text_1'].progress_apply(lambda x: preprocess(x))\n",
    "train['lemm_2'] = train['text_2'].progress_apply(lambda x: preprocess(x))\n",
    "test['lemm_1'] = test['text_1'].progress_apply(lambda x: preprocess(x))\n",
    "test['lemm_2'] = test['text_2'].progress_apply(lambda x: preprocess(x))"
   ]
  },
  {
   "cell_type": "code",
   "execution_count": null,
   "metadata": {
    "id": "ithc-ANDt3a-"
   },
   "outputs": [],
   "source": [
    "x_train_1 = train['lemm_1']\n",
    "x_train_2 = train['lemm_2']\n",
    "x_test_1 = test['lemm_1']\n",
    "x_test_2 = test['lemm_2']"
   ]
  },
  {
   "cell_type": "code",
   "execution_count": null,
   "metadata": {
    "id": "ZdcZ0f5GuvYi"
   },
   "outputs": [],
   "source": [
    "cv=CountVectorizer(ngram_range=(1,1))\n",
    "cv_train = cv.fit_transform(x_train_1.append(x_train_2))\n",
    "cv_test_1 = cv.transform(x_test_1)\n",
    "cv_test_2 = cv.transform(x_test_2)\n",
    "cv_train = cv_train[:int(cv_train.shape[0]/2)].multiply(cv_train[int(cv_train.shape[0]/2):])\n",
    "cv_test = cv_test_1.multiply(cv_test_2)"
   ]
  },
  {
   "cell_type": "code",
   "execution_count": null,
   "metadata": {
    "colab": {
     "base_uri": "https://localhost:8080/",
     "height": 34
    },
    "id": "h7uqJPcHu51M",
    "outputId": "87658289-8503-439e-c004-5a4f2422f3fd"
   },
   "outputs": [
    {
     "name": "stdout",
     "output_type": "stream",
     "text": [
      "accuracy=0.8509\n"
     ]
    }
   ],
   "source": [
    "clf = LogisticRegression().fit(cv_train, train['class'])\n",
    "predicted = clf.predict(cv_test)\n",
    "from sklearn.metrics import *\n",
    "acc = accuracy_score(test['class'], predicted)\n",
    "print('accuracy={0:1.4f}'.format(acc))"
   ]
  },
  {
   "cell_type": "code",
   "execution_count": null,
   "metadata": {
    "id": "vqqSfppQvByw"
   },
   "outputs": [],
   "source": [
    "best_aug = np.argsort(c)[:1000] "
   ]
  },
  {
   "cell_type": "code",
   "execution_count": null,
   "metadata": {
    "id": "JGghTJwhvNJY"
   },
   "outputs": [],
   "source": [
    "b = pd.DataFrame({'text_1':aug1.values[best_aug], 'text_2': aug2.values[best_aug], 'class': np.ones(1000)})"
   ]
  },
  {
   "cell_type": "code",
   "execution_count": null,
   "metadata": {
    "id": "vVKRiwIuvWyb"
   },
   "outputs": [],
   "source": [
    "train = train.append(b).reset_index()"
   ]
  },
  {
   "cell_type": "code",
   "execution_count": null,
   "metadata": {
    "id": "RKakLa0cvaw4"
   },
   "outputs": [],
   "source": [
    "train['lemm_1'] = train['text_1'].progress_apply(lambda x: preprocess(x))\n",
    "train['lemm_2'] = train['text_2'].progress_apply(lambda x: preprocess(x))\n",
    "test['lemm_1'] = test['text_1'].progress_apply(lambda x: preprocess(x))\n",
    "test['lemm_2'] = test['text_2'].progress_apply(lambda x: preprocess(x))"
   ]
  },
  {
   "cell_type": "code",
   "execution_count": null,
   "metadata": {
    "id": "g6OFksioveMO"
   },
   "outputs": [],
   "source": [
    "x_train_1 = train['lemm_1']\n",
    "x_train_2 = train['lemm_2']\n",
    "x_test_1 = test['lemm_1']\n",
    "x_test_2 = test['lemm_2']"
   ]
  },
  {
   "cell_type": "code",
   "execution_count": null,
   "metadata": {
    "id": "cJCcpd3Kvgu6"
   },
   "outputs": [],
   "source": [
    "cv=CountVectorizer(ngram_range=(1,2))\n",
    "cv_train = cv.fit_transform(x_train_1.append(x_train_2))\n",
    "cv_test_1 = cv.transform(x_test_1)\n",
    "cv_test_2 = cv.transform(x_test_2)\n",
    "cv_train = cv_train[:int(cv_train.shape[0]/2)].multiply(cv_train[int(cv_train.shape[0]/2):])\n",
    "cv_test = cv_test_1.multiply(cv_test_2)"
   ]
  },
  {
   "cell_type": "code",
   "execution_count": null,
   "metadata": {
    "colab": {
     "base_uri": "https://localhost:8080/",
     "height": 34
    },
    "id": "gT0i5S95vjMc",
    "outputId": "6ac5182a-0d9e-483c-eeaf-6891659b9d30"
   },
   "outputs": [
    {
     "name": "stdout",
     "output_type": "stream",
     "text": [
      "accuracy=0.8919\n"
     ]
    }
   ],
   "source": [
    "clf = LogisticRegression().fit(cv_train, train['class'])\n",
    "predicted = clf.predict(cv_test)\n",
    "from sklearn.metrics import *\n",
    "acc = accuracy_score(test['class'], predicted)\n",
    "print('accuracy={0:1.4f}'.format(acc))"
   ]
  }
 ],
 "metadata": {
  "colab": {
   "collapsed_sections": [],
   "name": "regression_and_paraphrase_detection_with_augmentation.ipynb",
   "provenance": []
  },
  "kernelspec": {
   "display_name": "Python 3",
   "language": "python",
   "name": "python3"
  },
  "language_info": {
   "codemirror_mode": {
    "name": "ipython",
    "version": 3
   },
   "file_extension": ".py",
   "mimetype": "text/x-python",
   "name": "python",
   "nbconvert_exporter": "python",
   "pygments_lexer": "ipython3",
   "version": "3.8.5"
  }
 },
 "nbformat": 4,
 "nbformat_minor": 1
}
